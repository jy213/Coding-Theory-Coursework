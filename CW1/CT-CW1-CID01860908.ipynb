{
 "cells": [
  {
   "cell_type": "markdown",
   "id": "9fdea660",
   "metadata": {},
   "source": [
    "# Coursework 1 - Coding Theory\n",
    "\n",
    "### PLAGIARISM/COLLUSION DECLARATION\n",
    "\n",
    "Coursework submitted for assessment must be the original work of you and your group. Assignments are subjected to regular checks for plagiarism and/or collusion. Plagiarism is the presentation of another person’s thoughts or words (those outside your group) as if they were your own. Collusion involves obtaining help from someone outside your group to complete your work. In preparing your coursework, you should not seek help, or copy from any other person or source, including the\n",
    "Internet, without proper and explicit acknowledgement.\n",
    "\n",
    "There is a procedure in place for you to declare individual contributions within your group for courswork. You must declare the contributions fairly and accurately.\n",
    "\n",
    "You must not disclose your solutions or insights related to coursework with anyone else, including future students or the Internet.\n",
    "\n",
    "By acknowledging the the statements above, you are declaring that both this and all subsequent pieces of coursework are, and will remain, the original work of you and your group. \n",
    "\n",
    "* Submissions will not be accepted without the aforementioned declaration.\n",
    "\n",
    "* Members of a group are deemed to have collective responsibility for the integrity for work submitted and are liable for any penalty imposed, proportionate to their contributions. \n",
    "\n"
   ]
  },
  {
   "cell_type": "code",
   "execution_count": 181,
   "id": "d8d22128",
   "metadata": {},
   "outputs": [],
   "source": [
    "using FileIO, JLD2, Base, LinearAlgebra, FreqTables, Primes"
   ]
  },
  {
   "cell_type": "code",
   "execution_count": 182,
   "id": "d527a014",
   "metadata": {},
   "outputs": [
    {
     "data": {
      "text/plain": [
       "CourseWork_1"
      ]
     },
     "metadata": {},
     "output_type": "display_data"
    }
   ],
   "source": [
    "Base.@kwdef mutable struct CourseWork_1\n",
    "    CID::Int\n",
    "    Plagiarism_declare::Union{Missing,Bool}\n",
    "    Demo_willing::Union{Missing,Bool}\n",
    "    \n",
    "    \"Chapter 4\"\n",
    "    # 4.1 Congurence equations\n",
    "    Q4_1_a_data_a::Int\n",
    "    Q4_1_a_data_b::Int\n",
    "    Q4_1_a_data_n::Int\n",
    "    Q4_1_a_ans_x::Union{Missing, Int, Array{Int}}\n",
    "\n",
    "    Q4_1_b_data_a::Int\n",
    "    Q4_1_b_data_b::Int\n",
    "    Q4_1_b_data_n::Int\n",
    "    Q4_1_b_ans_x::Union{Missing, Int, Array{Int}}\n",
    "\n",
    "    Q4_1_c_data_a::Int\n",
    "    Q4_1_c_data_b::Int\n",
    "    Q4_1_c_data_n::Int\n",
    "    Q4_1_c_ans_x::Union{Missing, Int, Array{Int}}\n",
    "\n",
    "    Q4_1_d_data_a::Int\n",
    "    Q4_1_d_data_b::Int\n",
    "    Q4_1_d_data_n::Int\n",
    "    Q4_1_d_ans_x::Union{Missing, Int, Array{Int}}\n",
    "\n",
    "    Q4_1_e_data_a::Int\n",
    "    Q4_1_e_data_b::Int\n",
    "    Q4_1_e_data_n::Int\n",
    "    Q4_1_e_ans_x::Union{Missing, Int, Array{Int}}\n",
    "\n",
    "    Q4_1_f_data_a::Int\n",
    "    Q4_1_f_data_b::Int\n",
    "    Q4_1_f_data_n::Int\n",
    "    Q4_1_f_ans_x::Union{Missing, Int, Array{Int}}\n",
    "\n",
    "    # Q3.a\n",
    "    Q4_3_a_data_a::Int\n",
    "    Q4_3_a_ans_b::Union{Missing, Int, Array{Int}}\n",
    "\n",
    "    # Q3.b\n",
    "    Q4_3_b_data_a::Int\n",
    "    Q4_3_b_data_b::Int\n",
    "    Q4_3_b_ans_p::Union{Missing, Int, Array{Int}}\n",
    "\n",
    "    # Q4\n",
    "    Q4_4_data_m::Int\n",
    "    Q4_4_data_M::Array{Int}\n",
    "\n",
    "    # Q4.a \n",
    "    Q4_4_a_ans::Union{Missing, Float64}\n",
    "\n",
    "    # Q4.b\n",
    "    Q4_4_b_ans::Union{Missing, Array{Float64} }\n",
    "\n",
    "    # Q4.c\n",
    "    Q4_4_c_ans::Union{Missing, Int }\n",
    "\n",
    "    # Q4,d \n",
    "    Q4_4_d_ans::Union{Missing, Array{Int} }\n",
    "\n",
    "    \"Chapter 5\"\n",
    "    # Q5.1 Shift Cipher\n",
    "    Q5_1_data_encrypted_quote1::String\n",
    "    Q5_1_data_encrypted_quote2::String\n",
    "    Q5_1_ans_quote1::Union{Missing, String}\n",
    "    Q5_1_ans_quote2::Union{Missing, String}\n",
    "\n",
    "    # Q5.2 Affine Cipher\n",
    "    Q5_2_data_encrypted_para::String\n",
    "    Q5_2_data_encrypted_quote1::String\n",
    "    Q5_2_data_encrypted_quote2::String\n",
    "    Q5_2_ans_para::Union{Missing, String}\n",
    "    Q5_2_ans_quote1::Union{Missing, String}\n",
    "    Q5_2_ans_quote2::Union{Missing, String}\n",
    "\n",
    "    # Q5.3 Vigenere cipher\n",
    "    Q5_3_data_encrypted_para::String\n",
    "    Q5_3_a_ans_len_key::Union{Missing, Int}\n",
    "    Q5_3_b_ans_key::Union{Missing, String}\n",
    "    Q5_3_b_ans_para::Union{Missing, String}\n",
    "\n",
    "    # Q5.4 Block cipher\n",
    "    Q5_4_data_A :: Array{Int64,2}\n",
    "    Q5_4_data_b :: Array{Int64,1}\n",
    "    Q5_4_plain_text :: String\n",
    "\n",
    "    Q5_4_a_ans :: Union{Missing, String }\n",
    "    Q5_4_b_ans :: Union{Missing, Array{Float64, 1} }\n",
    "\n",
    "    \"Chapter 6\"\n",
    "    # 6.1 \n",
    "    Q6_1_data_a₁::Int\n",
    "    Q6_1_data_a₂::Int\n",
    "    Q6_1_data_a₃::Int\n",
    "    Q6_1_data_n₁::Int\n",
    "    Q6_1_data_n₂::Int\n",
    "    Q6_1_data_n₃::Int\n",
    "    Q6_1_ans_y::Union{Missing, Int}\n",
    "\n",
    "    # 6.2\n",
    "    Q6_2_data_m::Int\n",
    "    Q6_2_data_reminder::Union{Missing, Int}\n",
    "\n",
    "    # 6.3.a\n",
    "    Q6_3_a_data_p::Int\n",
    "    Q6_3_a_data_a::Int\n",
    "    Q6_3_a_ans_isprimitive::Union{Missing, Bool}\n",
    "\n",
    "    # 6.3.b\n",
    "    Q6_3_b_data_p::Int\n",
    "    Q6_3_b_data_a::Int\n",
    "    Q6_3_a_ans_x::Union{Missing, Int}\n",
    "\n",
    "end"
   ]
  },
  {
   "cell_type": "code",
   "execution_count": 183,
   "id": "052f7342",
   "metadata": {},
   "outputs": [
    {
     "data": {
      "text/plain": [
       "CourseWork_1(1860908, true, true, 24, 1, 43, [9], 14, 2, 29, [25], 55, 1, 155, Int64[], 110, 3, 155, Int64[], 80, 2, 86, [14, 57], 2065, 59, 2419, [34, 75, 116, 157, 198, 239, 280, 321, 362, 403  …  2043, 2084, 2125, 2166, 2207, 2248, 2289, 2330, 2371, 2412], 25, [0, 2, 4, 6, 8, 12, 14, 16, 18, 20, 22, 24], 21, 14, [3], 881, [668 814 … 16 557; 20 715 … 128 673; … ; 80 758 … 755 357; 368 421 … 235 528], 735.0, [-0.0003864008126023899 0.0006152146047218918 … -0.0004528641278094052 -0.005550263198405888; 0.0035796204709977837 -0.0032041690874668096 … 0.00015690530190918346 0.007285723532014638; … ; -0.0014697344343685983 5.641096957665021e-6 … 0.0006266266781294334 -0.002789431596247625; -0.0016268660924122539 0.0017054602843548335 … -0.0006783278095548027 -0.0020962831702858397], 735, [544 480 … 827 5; 1 51 … 585 849; … ; 616 318 … 809 223; 510 180 … 139 11], \"AOLYLPZUVAOPUNHIVBADOPJOPHTTVYLHUEPVBZAOHUTFJVBUAYFHUKMVYPAZZHRLPHTDPSSPUNAVKPLALUKLHAOZPMAOHAILWVZZPISL\", \"JLSFBPZXKXKAALEXSBQOBJBKALRPFKCIRBKZBFKPEXMFKDVLRKDIFSBPFKQEBOBXIJLCBKQBOQXFKJBKQQLTXOAPQEBFABXIPXKALYGBZQFSBPLCKLOJXIXARIQELLA\", \"thereisnothingaboutwhichiammoreanxiousthanmycountryandforitssakeiamwillingtodietendeathsifthatbepossible\", \"moviescananddohavetremendousinfluenceinshapingyounglivesintherealmofentertainmenttowardstheidealsandobjectivesofnormaladulthood\", \"KLRUEYRLRMQUEPTHMIUZMYPOTKFKAOIMENUBRKIQKLRRKSHZMOWFOSLKBLROLEBMJNMALMTIOBBMZSUKQMBLFUZQOZTSUFLPCOBTLUEARMTRKIUBLRMSRUEPTMZRMKBSLOBLPCDEINMTENOBTKLQOSBULLRMSOIMIOBHELOBULRMZIOBOBTCMLLRKSIOBQOSTZMSSMTKBAUOZSMYZMCLUUOBTROTOYZMOLKZUBUBRKSPMYOBTQOSPOIMOBTRUOZSMOBTAUPTOBTQOSMXMZCLRKBYLROLLRMULRMZIOBQOSMJAMNLLROLRMROTBULLRMSOIMFOAMOBTROTOFPOLHZUOTHZKIIMTPUQAZUQBMTFMPLROLUBOPPLRKSKSOQKBOIUIMBLFUZKROTUBPCOIUIMBLLUSMMKLKBRMSQUZMOBUOLROLIMIOTMORKLOLIMKLQOSOZUEBTQMOWHPUQLROLIKSSMTIMOBTOPIUSLWBUAWMTRKISMPFTUQBFUZKLIOTMRKISLEIHPMOBTLRMBRMZOBKBLULRMIKSLSLEIHPKBYLQKAMOSRMQMBLOBTKPUSLRKIKLSLRMCUEBYIOBKLRUEYRLFMMPKBYICRMOZLSRUULOSKKTMBLKFKMTRKIKTOZMSOCKSRUEPTROXMFMPLONOKBKBICPKXMZLUUKFKROTWBUQBQRMZMKLQOSKQOSSUUBOLLRMHOLLMZCOFLMZLROLOBTLRMZMQOSLRMZKYRLIOBREYYKBYRKISMPFOBTPKINKBYLUOBTFZUOSKFRMROTBMXMZOPPBKYRLPMFLUFFREYYKBYOBTPKINKBYQOKLKBYFUZIMRMQOSOQFEPPCAUPTLUHMSEZMKROPFMJNMALMTLUSMMRKITZUNTUQBHMFUZMICFOAMOBTTKMUFTMOTPCAUPTRKSMCMSPUUWMTSUOQFEPPCREBYZCLUULROLQRMBKROBTMTRKILRMFKPMOBTRMPOKTKLTUQBUBLRMYZOSSKLUAAEZZMTLUIMRMQUEPTROXMLZKMTLUMOLKLKFRMROTBULSMMBICHEBTPMRMTKTBULLEZBIMENSKTMTUQBLRKSLKIMLUYMLOLQROLKROTHELPMFLIMZKYRLSKTMENQOZTSQRKPMKUNMBMTLRMHEBTPMOBTMINLKMTICNUAWMLSQROLSKBLRMHULLPMHUCSOKTRMHZOBTCSOKTKRMQOSOPZMOTCROBTKBYIKBAMIMOLTUQBRKSLRZUOLKBLRMIUSLAEZKUESIOBBMZIUZMPKWMOIOBQRUQOSNELLKBYKLOQOCSUIMQRMZMKBOXKUPMBLREZZCLROBOIOBQRUQOSMOLKBYKLHELRMPMFLUFFLULOWMSUIMUFLRMPKGEUZRMSRKXMZMTOPPLRMQRKPMSUXKUPMBLPCLROLKLQOSGEKLMOSIEAROSRMAUEPTTULUWMMNLRMBMAWUFLRMHULLPMHMLQMMBRKSLMMLRQKLRUELHKLKBYKLUFF\", \"MOVXBAODLXVWKDXFVNHFOVAOVKDIXMIDXVXNAGZNMOVIXXMIVAZMONAGRPBINZVNXMOVGNJZVMXPA\", \"HMMHWGLCDGFDBXDBBJEUFXHBGMJHMSJUJZPLBJDGDBEWJBBJEDCHQJWPSSBPCESHHNBSDNJVHWN\", \"ithoughthewouldbemoregladificameuponhimwithhisbreakfastinthatunexpectedmannersoiwentforwardsoftlyandtouchedhimontheshoulderheinstantlyjumpedupanditwasnotthesamemanbutanothermanandyetthismanwasdressedincoarsegreytooandhadagreatirononhislegandwaslameandhoarseandcoldandwaseverythingthattheothermanwasexceptthathehadnotthesamefaceandhadaflatbroadbrimmedlowcrownedfelthatonallthisisawinamomentforihadonlyamomenttoseeitinhesworeanoathatmemadeahitatmeitwasaroundweakblowthatmissedmeandalmostknockedhimselfdownforitmadehimstumbleandthenheranintothemiststumblingtwiceashewentandilosthimitstheyoungmanithoughtfeelingmyheartshootasiidentifiedhimidaresayishouldhavefeltapaininmylivertooifihadknownwhereitwasiwassoonatthebatteryafterthatandtherewastherightmanhugginghimselfandlimpingtoandfroasifhehadneverallnightleftoffhuggingandlimpingwaitingformehewasawfullycoldtobesureihalfexpectedtoseehimdropdownbeforemyfaceanddieofdeadlycoldhiseyeslookedsoawfullyhungrytoothatwhenihandedhimthefileandhelaiditdownonthegrassitoccurredtomehewouldhavetriedtoeatitifhehadnotseenmybundlehedidnotturnmeupsidedownthistimetogetatwhatihadbutleftmerightsideupwardswhileiopenedthebundleandemptiedmypocketswhatsinthebottleboysaidhebrandysaidihewasalreadyhandingmincemeatdownhisthroatinthemostcuriousmannermorelikeamanwhowasputtingitawaysomewhereinaviolenthurrythanamanwhowaseatingitbutheleftofftotakesomeoftheliquorheshiveredallthewhilesoviolentlythatitwasquiteasmuchashecoulddotokeeptheneckofthebottlebetweenhisteethwithoutbitingitoff\", \"thesunhimselfisweakwhenhefirstrisesandgathersstrengthandcourageasthedaygetson\", \"opportunityismissedbymostpeoplebecauseitisdressedinoverallsandlookslikework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glowed\", \"everybodywhosegeniushasatopographicalbentknowsperfectlywellthatmuggletonisacorporatetownwithamayorburgessesandfreemenandanybodywhohasconsultedtheaddressesofthemayortothefreemenorthefreementothemayororbothtothecorporationorallthreetoparliamentwilllearnfromthencewhattheyoughttohaveknownbeforethatmuggletonisanancientandloyalboroughminglingazealousadvocacyofchristianprincipleswithadevotedattachmenttocommercialrightsindemonstrationwhereofthemayorcorporationandotherinhabitantshavepresentedatdiverstimesnofewerthanonethousandfourhundredandtwentypetitionsagainstthecontinuanceofnegroslaveryabroadandanequalnumberagainstanyinterferencewiththefactorysystemathomesixtyeightinfavourofthesaleoflivingsinthechurchandeightysixforabolishingsundaytradinginthestreetmrpickwickstoodintheprincipalstreetofthisillustrioustownandgazedwithanairofcuriositynotunmixedwithinterestontheobjectsaroundhimtherewasanopensquareforthemarketplaceandinthecentreofitalargeinnwithasignpostinfrontdisplayinganobjectverycommoninartbutrarelymetwithinnaturetowitabluelionwiththreebowlegsintheairbalancinghimselfontheextremepointofthecentreclawofhisfourthfoottherewerewithinsightanauctioneersandfireagencyofficeacornfactorsalinendrapersasaddlersadistillersagrocersandashoeshopthelastmentionedwarehousebeingalsoappropriatedtothediffusionofhatsbonnetswearingapparelcottonumbrellasandusefulknowledgetherewasaredbrickhousewithasmallpavedcourtyardinfrontwhichanybodymighthaveknownbelongedtotheattorneyandtherewasmoreoveranotherredbrickhousewithvenetianblindsandalargebrassdoorplatewithaverylegibleannouncementthatitbelongedtothesurgeonafewboysweremakingtheirwaytothecricketfieldandtwoorthreeshopkeeperswhowerestandingattheirdoorslookedasiftheyshouldliketobemakingtheirwaytothesamespotasindeedtoallappearancetheymighthavedonewithoutlosinganygreatamountofcustomtherebymrpickwickhavingpausedtomaketheseobservationstobenoteddownatamoreconvenientperiodhastenedtorejoinhisfriendswhohadturnedoutofthemainstreetandwerealreadywithinsightofthefieldofbattle\", [8 1 … 19 25; 4 2 … 24 7; … ; 17 23 … 10 25; 1 21 … 19 5], [11, 25, 11, 16, 6], \"roundinghismouthandbothhiseyesashesteppedbackwardfromthetablethewaitershiftedhisnapkinfromhisrightarmtohisleftdroppedintoacomfortableattitudeandstoodsurveyingtheguestwhileheateanddrankasfromanobservatoryorwatchtoweraccordingtotheimmemorialusageofwaitersinallageswhenmrlorryhadfinishedhisbreakfasthewentoutforastrollonthebeachthelittlenarrowcrookedtownofdoverhiditselfawayfromthebeachandranitsheadintothechalkcliffslikeamarineostrichthebeachwasadesertofheapsofseaandstonestumblingwildlyaboutandtheseadidwhatitlikedandwhatitlikedwasdestructionitthunderedatthetownandthunderedatthecliffsandbroughtthecoastdownmadlytheairamongthehouseswasofsostrongapiscatoryflavourthatonemighthavesupposedsickfishwentuptobedippedinitassickpeoplewentdowntobedippedintheseaalittlefishingwasdoneintheportandaquantityofstrollingaboutbynightandlookingseawardparticularlyatthosetimeswhenthetidemadeandwasnearfloodsmalltradesmenwhodidnobusinesswhateversometimesunaccountablyrealisedlargefortunesanditwasremarkablethatnobodyintheneighbourhoodcouldendurealamplighterasthedaydeclinedintotheafternoonandtheairwhichhadbeenatintervalsclearenoughtoallowthefrenchcoasttobeseenbecameagainchargedwithmistandvapourmrlorrysthoughtsseemedtocloudtoowhenitwasdarkandhesatbeforethecoffeeroomfireawaitinghisdinnerashehadawaitedhisbreakfasthismindwasbusilydiggingdiggingdiggingintheliveredcoalsabottleofgoodclaretafterdinnerdoesadiggerintheredcoalsnoharmotherwisethanasithasatendencytothrowhimoutofworkmrlorryhadbeenidlealongtimeandhadjustpouredouthislastglassfulofwinewithascompleteanappearanceofsatisfactionasisevertobefoundinanelderlygentlemanofafreshcomplexionwhohasgottotheendofabottlewhenarattlingofwheelscameupthenarrowstreetandrumbledintotheinnyard\", \"BMPEDTVAPWGGUHPTCYVKTFPQDNPBEEVXWBNCDFIVMBLWOXMQSNXCJWTSYNAPYRAKGOWHYOOALGLKBWYMHJCUMCNWFPQNUBKLARLBPXKZKAIZOXIQPDQYYRQNJHVISCJLIXDCSNPQUDBHEFFFOGPKFQQNEIIOQHGLPPVOMAYXVBXGSYMTEWURZVGCSQHKMUXTSDQZAXNVDYMYQYCJWOKGOCSYQCTTISPTJOLEMYNPXKQGTWHGXFFGSYYOSSHUUKYULIAKQNUMBCVXELPJOWJDZEEZWYJSXUJVZMTPCVTEVTUGZAWFBNRSIMMIPFOTRREVCEGIIZTOKZPOFUWEDWYSMFJHXSROUYGPTEXODTAFFTAUKCJTSUMFGKAVLUSXMQVOSFXEIDJZCEUAJZYXLEWZFDQSUQLEZVVNFRMSVJIZUCJPHYVJPANCEGIISESLDTUZFUIFOKCQDSXEBKLDMZHKJGXOKYCRTIWGFRNIRHQSUAIKUPOYUMHHLXWZIWVZKRYIZQYYGXZDGTUGUKRPZNJWBIFNJAJVXAEPCDIBNHYMTMJRFSQWXWKBCKLVKDWARZJHGOVZWFIGSJRDPMLEUGTVHNTJWBAEIRQHMTYVWIUUJLZTEZTIDPVZNPLVNGOAWOIMPFGYCLTTVFWMXFBRZWKUDENMGKJFVJFXDUXSAOOGAWAUCGYSTBZZYTHWKXDOJDETCFJSULPLMWIWQYJZYXRVKDAGGHYDPNQYWNTVIMZZZGDNGISMTWWTNQQVXXKVUMXUELTKRKREWFPDMRFSRXCNBEVYAGSFCFXXNVASAPARCNVCKIYBQWHUWCKVJVFDWAVDNWNMHXACQHTWPHRZYBBRAXZQNUMBVGNKAMNRJNXOBARELQKVFFXKRGLJPLFFRLQTXXDPWKNNRFQVJXANSYJCPKUVCMXLLUQQHDLDBWAFPRZHPIPNJJFMIGOUKWCTHGSCITXOTSUCSYHJOMOCDZHFJGLOVDENZTAUPPBTSMYJMPBVRNEALXELYZCSNHJAHZMIFBYAKUBWLSBTQEMYPVSGYCBGROSEJRXINLIVLQPHDKBAVGBTBRSGUXQKOVLZQNSSTJIODEHHWNVHDPMPPHFWKSIJUMANYAPZQDREXXTWUWARLRAHFVTRQXRAURRXIIJRGROYTEPYOXUQOCADCJFNWCAILDUPXQMJBSOOUKJBPXRKLJFCXKWOCOECYKPBCROGYVIQLEKORFUPLABTCJIEBVSODKYLLSZOMPXFJTFHHCXCKPMREBROKLBTQNMJPJBDAVHKLQNIOYDQGUMZXTDTEBJWWOASEWMBRNRVDUBYEZMCNHTNNXVODEHYKRXTDFGPMBTCPBHSOXGRZKLTTNAHQEGHLTADXEFYMVHAKGETBYYUXTXTVGPNNEYWLPQJUNXCAGVBIEBXATBCUTJTLSBLEUMBVCRALMBOQHKNJLZJPJZBYKADANKVJMXNRGZKMOKVXSPBLWLMPFNJRXAVICXMTMZAETQSWHZFGVICIQEFZNZYOVRXPPCHFKNIQSFEFJAPOYUAUVIOEZNMWQVQEAYDDQTLANMLQASETVBCXZFXYIEGEOFRVDSRHBSSEYQEVXQKKKNJZMXILCYHHPEKBAFAXZWOQSHJBARQANVMUTZVXVHAPRXSLARCGZOZMKKKROCOORBVQCRTZWRALZWDSNJRMUWVYVVAXCFYYRQNOLEMYLOYJDJ\", [0.04324956165984804, 0.03565166569257744, 0.03682057276446522, 0.03272939801285798, 0.0385739333722969, 0.037405026300409115, 0.03331385154880187, 0.032144944476914086, 0.03272939801285798, 0.03974284044418469  …  0.037405026300409115, 0.040911747516072475, 0.03682057276446522, 0.04266510812390415, 0.03623611922852133, 0.04558737580362361, 0.03682057276446522, 0.046756282875511396, 0.04149620105201637, 0.03682057276446522], 9, 23, 7, 61, 29, 60, 47467, 127101, 2, 997312851937217, 472751952393357, false, 74547324182707, 14493155518399, 14493155518402)"
      ]
     },
     "metadata": {},
     "output_type": "display_data"
    }
   ],
   "source": [
    "# Download and upload data from JLD file, refer to https://juliaio.github.io/JLD2.jl/dev/ \n",
    "data = JLD2.load(\"Jacky Jiang1860908StudentFile.jld2\")\n",
    "CW1_dataset = data[\"CourseWork_1\"]"
   ]
  },
  {
   "cell_type": "code",
   "execution_count": 184,
   "metadata": {},
   "outputs": [
    {
     "data": {
      "text/plain": [
       "true"
      ]
     },
     "metadata": {},
     "output_type": "display_data"
    }
   ],
   "source": [
    "CW1_dataset.CID = 01860908\n",
    "CW1_dataset.Plagiarism_declare = true\n",
    "CW1_dataset.Demo_willing = true"
   ]
  },
  {
   "cell_type": "markdown",
   "id": "237a63e0",
   "metadata": {},
   "source": [
    "### 4.1\n",
    "* If the subproblem has more than one solution, arrange all the solutions into a vector in ascending order;\n",
    "* If only one solution, save it as type Int;\n",
    "* If no solution, save it as []."
   ]
  },
  {
   "cell_type": "code",
   "execution_count": 185,
   "id": "db08cb67",
   "metadata": {},
   "outputs": [
    {
     "name": "stdout",
     "output_type": "stream",
     "text": [
      "the solutions of x is : [9]\n",
      "the solutions of x is : [25]\n",
      "the solutions of x is : Int64[]\n",
      "the solutions of x is : Int64[]\n",
      "the solutions of x is : [14, 57]\n",
      "the solutions of x is : [34, 75, 116, 157, 198, 239, 280, 321, 362, 403, 444, 485, 526, 567, 608, 649, 690, 731, 772, 813, 854, 895, 936, 977, 1018, 1059, 1100, 1141, 1182, 1223, 1264, 1305, 1346, 1387, 1428, 1469, 1510, 1551, 1592, 1633, 1674, 1715, 1756, 1797, 1838, 1879, 1920, 1961, 2002, 2043, 2084, 2125, 2166, 2207, 2248, 2289, 2330, 2371, 2412]\n"
     ]
    }
   ],
   "source": [
    "# Q4.1 Congruence equations\n",
    "\n",
    "function solve_congruence(a, b, n)\n",
    "    x_all = Int[]\n",
    "    \n",
    "    for i in 1:(n-1)\n",
    "        if mod(a*i, n) == b\n",
    "            push!(x_all, i)\n",
    "        end\n",
    "    end\n",
    "    return x_all   \n",
    "end\n",
    "\n",
    "a_a = CW1_dataset.Q4_1_a_data_a\n",
    "b_a = CW1_dataset.Q4_1_a_data_b\n",
    "n_a = CW1_dataset.Q4_1_a_data_n\n",
    "solution_a = solve_congruence(a_a, b_a, n_a)\n",
    "CW1_dataset.Q4_1_a_ans_x = solution_a\n",
    "println(\"the solutions of x is : \", CW1_dataset.Q4_1_a_ans_x)\n",
    "\n",
    "a_b = CW1_dataset.Q4_1_b_data_a\n",
    "b_b = CW1_dataset.Q4_1_b_data_b\n",
    "n_b = CW1_dataset.Q4_1_b_data_n\n",
    "solution_b = solve_congruence(a_b, b_b, n_b)\n",
    "CW1_dataset.Q4_1_b_ans_x = solution_b\n",
    "println(\"the solutions of x is : \", CW1_dataset.Q4_1_b_ans_x)\n",
    "\n",
    "a_c = CW1_dataset.Q4_1_c_data_a\n",
    "b_c = CW1_dataset.Q4_1_c_data_b\n",
    "n_c = CW1_dataset.Q4_1_c_data_n\n",
    "solution_c = solve_congruence(a_c, b_c, n_c)\n",
    "CW1_dataset.Q4_1_c_ans_x = solution_c\n",
    "println(\"the solutions of x is : \", CW1_dataset.Q4_1_c_ans_x)\n",
    "\n",
    "a_d = CW1_dataset.Q4_1_d_data_a\n",
    "b_d = CW1_dataset.Q4_1_d_data_b\n",
    "n_d = CW1_dataset.Q4_1_d_data_n\n",
    "solution_d = solve_congruence(a_d, b_d, n_d)\n",
    "CW1_dataset.Q4_1_d_ans_x = solution_d\n",
    "println(\"the solutions of x is : \", CW1_dataset.Q4_1_d_ans_x)\n",
    "\n",
    "a_e = CW1_dataset.Q4_1_e_data_a\n",
    "b_e = CW1_dataset.Q4_1_e_data_b\n",
    "n_e = CW1_dataset.Q4_1_e_data_n\n",
    "solution_e = solve_congruence(a_e, b_e, n_e)\n",
    "CW1_dataset.Q4_1_e_ans_x = solution_e\n",
    "println(\"the solutions of x is : \", CW1_dataset.Q4_1_e_ans_x)\n",
    "\n",
    "a_f = CW1_dataset.Q4_1_f_data_a\n",
    "b_f = CW1_dataset.Q4_1_f_data_b\n",
    "n_f = CW1_dataset.Q4_1_f_data_n\n",
    "solution_f = solve_congruence(a_f, b_f, n_f)\n",
    "CW1_dataset.Q4_1_f_ans_x = solution_f\n",
    "println(\"the solutions of x is : \", CW1_dataset.Q4_1_f_ans_x)"
   ]
  },
  {
   "cell_type": "markdown",
   "id": "9b8ef128",
   "metadata": {},
   "source": [
    "### 4.2\n"
   ]
  },
  {
   "cell_type": "markdown",
   "metadata": {},
   "source": [
    "#### 4.2.a Closed form for Fibonacci numbers and Proof\n",
    "\n",
    "Fibonacci numbers can be written as $\\bm{F_n = F_{n-1} + F_{n-2}}$, where $\\bm{F_1 = F_2 = 1}$, our goal is to find $\\bm{gcd(F_n, F_{n-1})}$, which can be written as $\\bm{gcd(F_{n-1}+F_{n-2}, F_{n-1})}$. Now considering about $\\bm{gcd(a+b, b)}$ in general:\n",
    "\n",
    "let $\\bm{d = gcd(a, b)}$, then we could say that $\\bm{a = dm}$ and $\\bm{b = dn}$, then $\\bm{a+b = d(m+n)}$, since both $\\bm{m}$ and $\\bm{n}$ are integers, we could say that $\\bm{d}$ is also a divisor of $\\bm{(a+b)}$, therefore we could say that $\\bm{d}$ is a common divisor of $\\bm{(a+b)}$ and $\\bm{b}$. Now let $\\bm{e = gcd(a+b, b)}$, since it's the greatest common divisor of $\\bm{(a+b)}$ and $\\bm{b}$, we could say that $\\bm{ d\\leq e}$. Now for $\\bm{e = gcd(a+b, b)}$, similarly, $\\bm{(a+b) = eh}$ and $\\bm{b = el}$, then $\\bm{(a+b)-b = a = e(h-l)}$, here we assume that $\\bm{b \\leq a}$, if it's opposite we could exchange their positions without loss of generalisity. Therefore, $\\bm{e}$ is also a common divisor of $\\bm{a}$ and $\\bm{b}$, then we could say that $\\bm{e \\leq d}$. Since $\\bm{ d\\leq e}$ and $\\bm{e \\leq d}$, then $\\bm{d = e}$, therefore $\\bm{d = gcd(a, b) = e = gcd(a+b, b)}$.\n",
    "\n",
    "Based on this property, we could say that \n",
    "$$\n",
    "\\begin{equation*}\n",
    "    \\bm{gcd(F_n, F_{n-1})} = \\bm{gcd(F_{n-1}+F_{n-2}, F_{n-1})} = \\bm{gcd(F_{n-2}, F_{n-1})}\n",
    "\\end{equation*}\n",
    "$$\n",
    "Now since $\\bm{F_{n-1} = F_{n-2}+F_{n-3}}$, we could rewrite the above equation as \n",
    "$$\n",
    "\\begin{equation*}\n",
    "    \\bm{gcd(F_{n-2}, F_{n-1})} = \\bm{gcd(F_{n-2}, F_{n-2}+F_{n-3})} = \\bm{gcd(F_{n-2}, F_{n-3})}\n",
    "\\end{equation*}\n",
    "$$\n",
    "Continue this process, we could finally decompose the original equation into \n",
    "$$\n",
    "\\begin{equation*}\n",
    "    \\bm{gcd(F_n, F_{n-1})} = \\bm{gcd(F_2, F_1)} = 1\n",
    "\\end{equation*}\n",
    "$$\n",
    "\n",
    "Therefore the closed form for $\\bm{gcd(F_n, F_{n-1})}$ is 1."
   ]
  },
  {
   "cell_type": "code",
   "execution_count": 186,
   "metadata": {},
   "outputs": [
    {
     "name": "stdout",
     "output_type": "stream",
     "text": [
      "Q4.2.b: gcd(111111,11111) = 1\n"
     ]
    }
   ],
   "source": [
    "# Q4.2.b \n",
    "\n",
    "println(\"Q4.2.b: gcd(111111,11111) = \", gcd(11111111, 11111))"
   ]
  },
  {
   "cell_type": "markdown",
   "metadata": {},
   "source": [
    "#### 4.2.c\n",
    "\n",
    "Considering about\n",
    "$$\n",
    "\\begin{equation*}\n",
    "    \\bm{gcd\\left(\\underbrace{1111\\cdots 1111}_{F_n}, \\underbrace{111\\cdots 111}_{F_{n-1}}\\right)}\n",
    "\\end{equation*}\n",
    "$$\n",
    "Now assume that\n",
    "$$\n",
    "\\begin{equation*}\n",
    "    \\bm{\\underbrace{1111\\cdots 1111}_{F_n} = a_n}\n",
    "\\end{equation*}\n",
    "$$\n",
    "And we could also write $\\bm{a_n}$ as \n",
    "$$\n",
    "\\begin{equation*}\n",
    "    \\bm{\\underbrace{1111\\cdots 1111}_{F_n}} = \\bm{\\underbrace{11\\cdots 11}_{F_{n}-F_{n-1}}}\\bm{\\underbrace{000\\cdots 000}_{F_{n-1}}} + \\bm{\\underbrace{111\\cdots 111}_{F_{n-1}}} = \\bm{\\underbrace{11\\cdots 11}_{F_{n-2}}}\\bm{\\times 10^{F_{n-1}}} + \\bm{\\underbrace{111\\cdots 111}_{F_{n-1}}}\n",
    "\\end{equation*}\n",
    "$$\n",
    "Therefore, we could rewrite the above equation as \n",
    "$$\n",
    "\\begin{equation*}\n",
    "    \\bm{a_n} = \\bm{a_{n-2}\\times 10^{F_{n-2}}} + \\bm{a_{n-1}}\n",
    "\\end{equation*}\n",
    "$$\n",
    "Then we could write $\\bm{gcd(a_n, a_{n-1})}$ as\n",
    "$$\n",
    "\\begin{equation*}\n",
    "    \\bm{gcd(a_n, a_{n-1})} = \\bm{gcd\\left(a_{n-2}\\times 10^{F_{n-2}}+a_{n-1}, a_{n-1}\\right)}\n",
    "\\end{equation*}\n",
    "$$\n",
    "Based on the property we derived for the last question, which is $\\bm{gcd(a+b, b)}$, we could say that \n",
    "$$\n",
    "\\begin{equation*}\n",
    "    \\bm{gcd(a_n, a_{n-1})} = \\bm{gcd\\left(a_{n-2}\\times 10^{F_{n-2}}, a_{n-1}\\right)}\n",
    "\\end{equation*}\n",
    "$$\n",
    "Since in our case, $\\bm{a_{n-1}}$ is always in the form with all digits as 1s, but $10^{F_{n-2}}$ would always be a power of 10, so this factor would always be coprime with $\\bm{a_{n-1}}$. Therefore, we could say that\n",
    "$$\n",
    "\\begin{equation*}\n",
    "    \\bm{gcd(a_n, a_{n-1})} = \\bm{gcd\\left(a_{n-2}\\times 10^{F_{n-2}}, a_{n-1}\\right)} = \\bm{gcd\\left(a_{n-2}, a_{n-1}\\right)}\n",
    "\\end{equation*}\n",
    "$$\n",
    "We could decompose the $\\bm{a_{n-1}}$ in the same way and $\\bm{gcd\\left(a_{n-2}, a_{n-1}\\right)}$ would become $\\bm{gcd\\left(a_{n-2}, a_{n-3}\\right)}$. Therefore this gcd would be further decomposed until $\\bm{gcd\\left(a_2, a_1\\right)}$, which is $\\bm{gcd\\left(11, 1\\right)} = 1$. Therefore we could say that \n",
    "$$\n",
    "\\begin{equation*}\n",
    "    \\bm{gcd\\left(\\underbrace{1111\\cdots 1111}_{F_n}, \\underbrace{111\\cdots 111}_{F_{n-1}}\\right)} = 1\n",
    "\\end{equation*}\n",
    "$$\n"
   ]
  },
  {
   "cell_type": "markdown",
   "id": "c7c0a8bd",
   "metadata": {},
   "source": [
    "### 4.3\n",
    "* If the subproblem has more than one solution, arrange all the solutions into a vector in ascending order;\n",
    "* If only one solution, save it as type Int;\n",
    "* If no solution, save it as []."
   ]
  },
  {
   "cell_type": "code",
   "execution_count": 187,
   "id": "383c26a7",
   "metadata": {},
   "outputs": [
    {
     "name": "stdout",
     "output_type": "stream",
     "text": [
      "b values = [0, 2, 4, 6, 8, 12, 14, 16, 18, 20, 22, 24]\n"
     ]
    }
   ],
   "source": [
    "# Q4.3.a invertible\n",
    "\n",
    "function find_b(a)\n",
    "    b = Int[]\n",
    "    for i in 0:(26-1)\n",
    "        determinant = 3 - (a * i)\n",
    "        if gcd(determinant, 26) == 1\n",
    "            push!(b, i)\n",
    "        end\n",
    "    end\n",
    "    return b\n",
    "end\n",
    "\n",
    "a = CW1_dataset.Q4_3_a_data_a\n",
    "CW1_dataset.Q4_3_a_ans_b = find_b(a)\n",
    "println(\"b values = \", CW1_dataset.Q4_3_a_ans_b)"
   ]
  },
  {
   "cell_type": "markdown",
   "metadata": {},
   "source": [
    "In this question, we need a function to determine whether a number is a prime, which is based on trial division. The simplest idea is to test all the numbers that are smaller than the input value $\\bm{n}$ to check whether these numbers are divisable by $\\bm{n}$, but there're several optimizations to increase the efficiency. \n",
    "\n",
    "1. if $\\bm{d > \\sqrt{n}}$, and if it's divisable by $\\bm{n}$, which means $\\bm{n} = \\bm{dq}$, where $\\bm{q} < \\bm{\\sqrt{n}}$. Therefore, we only need to consider about the numbers that are smaller than $\\bm{\\sqrt{n}}$\n",
    "2. since all the even numbers are divisable by 2, then we only need to consider about the odd numbers\n",
    "3. all primes that are greater than 3 has the form $\\bm{6k+i}$, where $\\bm{i\\in [0, 1, 2, 3, 4, 5]}$, since 2 divides $\\bm{6k, 6k+2, 6k+4}$, and 3 divides $\\bm{6k, 6k+3}$, therefore we only need to consider about the numbers that are of the form $\\bm{6k+1}$ and $\\bm{6k+5}$"
   ]
  },
  {
   "cell_type": "code",
   "execution_count": 188,
   "metadata": {},
   "outputs": [
    {
     "name": "stdout",
     "output_type": "stream",
     "text": [
      "p values = [3]\n"
     ]
    }
   ],
   "source": [
    "# Q4.3.b not invertible\n",
    "\n",
    "function is_prime(n)\n",
    "    # First consider about the case when n < 2\n",
    "    if n < 2\n",
    "        return false\n",
    "    end\n",
    "    # Consider about when n = 2 or n = 3\n",
    "    if (n == 2) || (n == 3)\n",
    "        return true\n",
    "    end\n",
    "    # Don't consider about even numbers and numbers that are divisable by 3\n",
    "    if (n%2 == 0) || (n%3 == 0)\n",
    "        return false\n",
    "    end\n",
    "    bound = sqrt(n)\n",
    "    num_cur = 5\n",
    "    i = 1\n",
    "    if (n <= 36)\n",
    "        if n == 5 || n == 7 || n == 11 || n == 13 || n == 17 || n == 19 || n == 23 || n == 29 || n == 31 \n",
    "            return true\n",
    "        else \n",
    "            return false\n",
    "        end\n",
    "    else \n",
    "        while(num_cur < bound)\n",
    "            if (mod(n, 6*i+1) == 0) || (mod(n, 6*i+5) == 0)\n",
    "                return false\n",
    "            end\n",
    "            num_cur = 6*i+5\n",
    "            i += 1\n",
    "        end\n",
    "    end\n",
    "    return true\n",
    "end\n",
    "\n",
    "function find_p(a, b)\n",
    "    p = Int[]\n",
    "    for i in 2:50\n",
    "        if is_prime(i)\n",
    "            determinant = 3 - (a * b)\n",
    "            if gcd(determinant, i) != 1\n",
    "                push!(p, i)\n",
    "            end\n",
    "        end\n",
    "    end\n",
    "    return p\n",
    "end\n",
    "\n",
    "a = CW1_dataset.Q4_3_b_data_a\n",
    "b = CW1_dataset.Q4_3_b_data_b\n",
    "CW1_dataset.Q4_3_b_ans_p = find_p(a, b)\n",
    "println(\"p values = \", CW1_dataset.Q4_3_b_ans_p)"
   ]
  },
  {
   "cell_type": "markdown",
   "id": "32c442b3",
   "metadata": {},
   "source": [
    "### 4.4\n"
   ]
  },
  {
   "cell_type": "code",
   "execution_count": 189,
   "id": "55680c79",
   "metadata": {},
   "outputs": [
    {
     "name": "stdout",
     "output_type": "stream",
     "text": [
      "determinant M with modulo m = 735.0\n"
     ]
    }
   ],
   "source": [
    "# Q4.4.a Determinant using det()\n",
    "\n",
    "m_0 = CW1_dataset.Q4_4_data_m\n",
    "M_0 = CW1_dataset.Q4_4_data_M\n",
    "M_big = big.(M_0)\n",
    "\n",
    "determinant = mod(det(M_big), m_0)\n",
    "CW1_dataset.Q4_4_a_ans = determinant\n",
    "println(\"determinant M with modulo m = \", CW1_dataset.Q4_4_a_ans)"
   ]
  },
  {
   "cell_type": "code",
   "execution_count": 191,
   "metadata": {},
   "outputs": [
    {
     "name": "stdout",
     "output_type": "stream",
     "text": [
      "Q4.4.b: inverse M = [-0.0003864008126023899 0.0006152146047218918 -0.00019470841340741822 0.005686989274875739 -0.0017801377968329267 0.00015630881246876647 -0.0004528641278094052 -0.005550263198405888; 0.0035796204709977837 -0.0032041690874668096 -0.0015942388324268967 -0.00599489988569013 0.0014329325203078355 0.0007906955138412186 0.00015690530190918346 0.007285723532014638; -0.002539621586890006 0.004417116835238613 0.0011549544900087616 0.00796951736199605 -0.0019943315300197154 -0.0005085789461683318 0.0002498617089449983 -0.011904563347357375; -0.000734951254728783 8.535473879372079e-5 0.0006699342925207774 -0.00022391136927194752 0.0011457024126581149 0.0007569452687651521 0.0001883051088252833 -0.0016718241533490701; 0.0005081794601610077 -0.00016924683169537266 -6.0685491233520386e-5 -0.005930944859706747 0.0026651727796127575 -0.0012412942709018485 0.00016507006390016992 0.007377840613873989; 0.00045300121755185237 -0.0014159161350999702 0.0011746794385723426 -0.002039853820711788 0.0006180373748384363 0.00037538145692957945 0.0006959039491789331 0.0003766895855488674; -0.0014697344343685983 5.641096957665021e-6 -0.0005291159956260717 0.004221894201703636 -0.0016747776614969311 0.00041191659764741015 0.0006266266781294334 -0.002789431596247625; -0.0016268660924122539 0.0017054602843548335 0.000623834944323453 0.0033957218224743447 -0.0018944996267092954 -0.00011604491340206412 -0.0006783278095548027 -0.0020962831702858397]\n"
     ]
    }
   ],
   "source": [
    "# Q4.4.b Inverse using inv()\n",
    "\n",
    "M_inv = inv(M_big)\n",
    "CW1_dataset.Q4_4_b_ans = M_inv\n",
    "println(\"Q4.4.b: inverse M = \", CW1_dataset.Q4_4_b_ans)"
   ]
  },
  {
   "cell_type": "code",
   "execution_count": 192,
   "metadata": {},
   "outputs": [
    {
     "name": "stdout",
     "output_type": "stream",
     "text": [
      "Q4.4.c: determinant with cofactor expansion = 735\n"
     ]
    }
   ],
   "source": [
    "# Q4.4.c cofactor expansion for determinant\n",
    "\n",
    "function det_cofactor(M)\n",
    "  \n",
    "    determinant = 0.0\n",
    "    dim = size(M, 2)\n",
    "\n",
    "    if dim == 2\n",
    "        determinant = M[1, 1] * M[2, 2] - M[1, 2] * M[2, 1]\n",
    "        return determinant\n",
    "    end\n",
    "    \n",
    "    for idx in 1:dim\n",
    "        M_minor = zeros(dim-1, dim-1)\n",
    "        M_minor_new = zeros(dim-1, dim+2)\n",
    "        M_new = zeros(dim-1, dim+3)\n",
    "        M_new[1:(dim-1), 2:dim+1] = M[2:dim, 1:dim]\n",
    "        M_minor_new[1:(dim-1), 1:idx] = M_new[1:(dim-1), 1:idx]\n",
    "        M_minor_new[1:(dim-1), (idx+1):(dim+2)] = M_new[1:(dim-1), (idx+2):(dim+3)]\n",
    "        M_minor[1:(dim-1), 1:(dim-1)] = M_minor_new[1:(dim-1), 2:(dim)]\n",
    "  \n",
    "        cofactor = (-1)^(1+idx) * det_cofactor(M_minor)\n",
    "      \n",
    "        determinant += (M[1, idx] * cofactor)\n",
    "    end\n",
    "    \n",
    "    return BigInt(determinant)\n",
    "end\n",
    "\n",
    "CW1_dataset.Q4_4_c_ans = mod(det_cofactor(M_big), m_0)\n",
    "println(\"Q4.4.c: determinant with cofactor expansion = \", CW1_dataset.Q4_4_c_ans)"
   ]
  },
  {
   "cell_type": "code",
   "execution_count": 193,
   "metadata": {},
   "outputs": [
    {
     "name": "stdout",
     "output_type": "stream",
     "text": [
      "Q4.4.d: inverse with cofactor expansion = [544 480 421 762 829 612 827 5; 1 51 98 158 23 643 585 849; 243 8 608 54 820 314 481 656; 633 284 261 104 21 281 425 260; 835 852 581 579 571 761 410 137; 550 379 186 743 641 597 600 161; 616 318 417 686 744 636 809 223; 510 180 522 717 412 151 139 11]\n"
     ]
    }
   ],
   "source": [
    "# Q4.4.d cofactor expansion for inverse\n",
    "\n",
    "function inv_cofactor(M, m)\n",
    "    dim = size(M, 2)\n",
    "    M_c = zeros(BigInt, dim, dim)\n",
    "\n",
    "    for i in 1:dim\n",
    "        for j in 1:dim\n",
    "            M_minor = zeros(dim-1, dim-1)\n",
    "            M_minor_new = zeros(dim+2, dim+2)\n",
    "            M_new = zeros(dim+3, dim+3)\n",
    "            M_new[2:dim+1, 2:dim+1] = M[1:dim, 1:dim]\n",
    "            M_minor_new[1:i, 1:j] = M_new[1:i, 1:j]\n",
    "            M_minor_new[1:i, (j+1):(dim+2)] = M_new[1:i, (j+2):(dim+3)]\n",
    "            M_minor_new[(i+1):(dim+2), 1:j] = M_new[(i+2):(dim+3), 1:j]\n",
    "            M_minor_new[(i+1):(dim+2), (j+1):(dim+2)] = M_new[(i+2):(dim+3), (j+2):(dim+3)]\n",
    "            M_minor[1:(dim-1), 1:(dim-1)] = M_minor_new[2:dim, 2:dim]\n",
    "            M_c[i, j] = (-1)^(i+j) * det_cofactor(M_minor)\n",
    "        end\n",
    "    end\n",
    "\n",
    "    M_adj = transpose(M_c)\n",
    "    M_inv = invmod(det_cofactor(M), m) * M_adj\n",
    "    return mod.(M_inv, m)\n",
    "end\n",
    "\n",
    "CW1_dataset.Q4_4_d_ans = inv_cofactor(M_big, m_0)\n",
    "println(\"Q4.4.d: inverse with cofactor expansion = \", CW1_dataset.Q4_4_d_ans)"
   ]
  },
  {
   "cell_type": "markdown",
   "id": "8716ed07",
   "metadata": {},
   "source": [
    "### 5.1\n"
   ]
  },
  {
   "cell_type": "code",
   "execution_count": 194,
   "metadata": {},
   "outputs": [
    {
     "data": {
      "text/plain": [
       "frequency_analysis (generic function with 1 method)"
      ]
     },
     "metadata": {},
     "output_type": "display_data"
    }
   ],
   "source": [
    "# frequency_analysis\n",
    "\n",
    "function frequency_analysis(plaintext)\n",
    "    freq = zeros(Float64, 26)\n",
    "    best_score = 0.0\n",
    "\n",
    "    for c in plaintext\n",
    "        idx = Int(c) - Int('a') + 1\n",
    "        freq[idx] += 1\n",
    "    end\n",
    "\n",
    "    freq /= length(plaintext)\n",
    "    score = dot(freq, ENG_F)\n",
    "    return score              \n",
    "end"
   ]
  },
  {
   "cell_type": "code",
   "execution_count": 195,
   "id": "2b7f24f9",
   "metadata": {},
   "outputs": [
    {
     "name": "stdout",
     "output_type": "stream",
     "text": [
      "Q5.1: plaintext quote1 = thereisnothingaboutwhichiammoreanxiousthanmycountryandforitssakeiamwillingtodietendeathsifthatbepossible\n",
      "Q5.1: plaintext quote2 = moviescananddohavetremendousinfluenceinshapingyounglivesintherealmofentertainmenttowardstheidealsandobjectivesofnormaladulthood\n"
     ]
    }
   ],
   "source": [
    "# Q5.1 Shift Cipher\n",
    "\n",
    "ENG_F = [0.082, 0.015, 0.028, 0.043, 0.127, 0.022, 0.020, 0.061, 0.070, 0.002, \n",
    "                0.008, 0.040, 0.024, 0.067, 0.075, 0.019, 0.001, 0.060, 0.063, 0.091, \n",
    "                0.028, 0.010, 0.023, 0.001, 0.020, 0.001]\n",
    "\n",
    "function shift_cipher_decryptor(ciphertext)\n",
    "    plaintext_best = \"\"\n",
    "    best_score = 0.0\n",
    "\n",
    "    for j in 1:25\n",
    "        plaintext = \"\"\n",
    "        for c in ciphertext\n",
    "            c_int = Int(c) - Int('A')\n",
    "            c_int_decrypted = mod((c_int - j), 26)\n",
    "            c_decrypted = Char(c_int_decrypted + Int('a'))\n",
    "            plaintext *= c_decrypted\n",
    "        end\n",
    "\n",
    "        # find the correct plaintext using frequency_analysis\n",
    "        score = frequency_analysis(plaintext)\n",
    "        if score > best_score\n",
    "            best_score = score\n",
    "            plaintext_best = plaintext\n",
    "        end \n",
    "\n",
    "    end\n",
    "    return plaintext_best\n",
    "end\n",
    "\n",
    "\n",
    "q_1 = CW1_dataset.Q5_1_data_encrypted_quote1\n",
    "q_2 = CW1_dataset.Q5_1_data_encrypted_quote2\n",
    "CW1_dataset.Q5_1_ans_quote1 = shift_cipher_decryptor(q_1)\n",
    "CW1_dataset.Q5_1_ans_quote2 = shift_cipher_decryptor(q_2)\n",
    "println(\"Q5.1: plaintext quote1 = \", CW1_dataset.Q5_1_ans_quote1)\n",
    "println(\"Q5.1: plaintext quote2 = \", CW1_dataset.Q5_1_ans_quote2)"
   ]
  },
  {
   "cell_type": "markdown",
   "id": "59cf540e",
   "metadata": {},
   "source": [
    "### 5.2\n"
   ]
  },
  {
   "cell_type": "code",
   "execution_count": 196,
   "metadata": {},
   "outputs": [
    {
     "name": "stdout",
     "output_type": "stream",
     "text": [
      "Q5.2: plaintext param = ithoughthewouldbemoregladificameuponhimwithhisbreakfastinthatunexpectedmannersoiwentforwardsoftlyandtouchedhimontheshoulderheinstantlyjumpedupanditwasnotthesamemanbutanothermanandyetthismanwasdressedincoarsegreytooandhadagreatirononhislegandwaslameandhoarseandcoldandwaseverythingthattheothermanwasexceptthathehadnotthesamefaceandhadaflatbroadbrimmedlowcrownedfelthatonallthisisawinamomentforihadonlyamomenttoseeitinhesworeanoathatmemadeahitatmeitwasaroundweakblowthatmissedmeandalmostknockedhimselfdownforitmadehimstumbleandthenheranintothemiststumblingtwiceashewentandilosthimitstheyoungmanithoughtfeelingmyheartshootasiidentifiedhimidaresayishouldhavefeltapaininmylivertooifihadknownwhereitwasiwassoonatthebatteryafterthatandtherewastherightmanhugginghimselfandlimpingtoandfroasifhehadneverallnightleftoffhuggingandlimpingwaitingformehewasawfullycoldtobesureihalfexpectedtoseehimdropdownbeforemyfaceanddieofdeadlycoldhiseyeslookedsoawfullyhungrytoothatwhenihandedhimthefileandhelaiditdownonthegrassitoccurredtomehewouldhavetriedtoeatitifhehadnotseenmybundlehedidnotturnmeupsidedownthistimetogetatwhatihadbutleftmerightsideupwardswhileiopenedthebundleandemptiedmypocketswhatsinthebottleboysaidhebrandysaidihewasalreadyhandingmincemeatdownhisthroatinthemostcuriousmannermorelikeamanwhowasputtingitawaysomewhereinaviolenthurrythanamanwhowaseatingitbutheleftofftotakesomeoftheliquorheshiveredallthewhilesoviolentlythatitwasquiteasmuchashecoulddotokeeptheneckofthebottlebetweenhisteethwithoutbitingitoff\n",
      "Q5.2: plaintext quote1 = thesunhimselfisweakwhenhefirstrisesandgathersstrengthandcourageasthedaygetson\n",
      "Q5.2: plaintext quote2 = opportunityismissedbymostpeoplebecauseitisdressedinoverallsandlookslikework\n"
     ]
    }
   ],
   "source": [
    "# Q5.2 Affine Cipher\n",
    "\n",
    "function affine_decryptor(ciphertext)\n",
    "    plaintext_best = \"\"\n",
    "    best_score = 0.0\n",
    "\n",
    "    for a in 1:26\n",
    "        if gcd(a, 26) == 1 # a and 26 has to be coprime\n",
    "            a_inv = invmod(a, 26)\n",
    "            \n",
    "            for b in 0:25\n",
    "                plaintext = \"\"\n",
    "                for c in ciphertext\n",
    "                    c_int = Int(c) - Int('A')\n",
    "                    c_int_decrypted = mod(a_inv * (c_int - b) , 26)\n",
    "                    c_decrypted = Char(c_int_decrypted + Int('a'))\n",
    "                    plaintext *= c_decrypted\n",
    "                end  \n",
    "                \n",
    "                # find the correct plaintext using frequency_analysis\n",
    "                score = frequency_analysis(plaintext)\n",
    "                if score > best_score\n",
    "                    best_score = score\n",
    "                    plaintext_best = plaintext\n",
    "                end \n",
    "            end\n",
    "        end\n",
    "    end\n",
    "    return plaintext_best\n",
    "end\n",
    "\n",
    "param = CW1_dataset.Q5_2_data_encrypted_para\n",
    "q_1 = CW1_dataset.Q5_2_data_encrypted_quote1\n",
    "q_2 = CW1_dataset.Q5_2_data_encrypted_quote2\n",
    "\n",
    "CW1_dataset.Q5_2_ans_para = affine_decryptor(param)\n",
    "CW1_dataset.Q5_2_ans_quote1 = affine_decryptor(q_1)\n",
    "CW1_dataset.Q5_2_ans_quote2 = affine_decryptor(q_2)\n",
    "println(\"Q5.2: plaintext param = \", CW1_dataset.Q5_2_ans_para)\n",
    "println(\"Q5.2: plaintext quote1 = \", CW1_dataset.Q5_2_ans_quote1)\n",
    "println(\"Q5.2: plaintext quote2 = \", CW1_dataset.Q5_2_ans_quote2)"
   ]
  },
  {
   "cell_type": "markdown",
   "id": "7d5f661b",
   "metadata": {},
   "source": [
    "### 5.3\n"
   ]
  },
  {
   "cell_type": "code",
   "execution_count": 197,
   "id": "84c336e2",
   "metadata": {},
   "outputs": [
    {
     "name": "stdout",
     "output_type": "stream",
     "text": [
      "Q5.3.a: key length = 6\n"
     ]
    }
   ],
   "source": [
    "# Q5.3 Vigenere cipher\n",
    "# Q5.3.a scf and key length\n",
    "\n",
    "function scf(cyphertext, shift)\n",
    "    sum = 0\n",
    "    N = length(cyphertext)\n",
    "    l = shift\n",
    "    for j in 1:N - l\n",
    "        if cyphertext[j] == cyphertext[l + j]\n",
    "            sum += 1\n",
    "        end\n",
    "    end\n",
    "    return sum / (N - l)\n",
    "end\n",
    "\n",
    "function find_key_len(param, max_len)\n",
    "    scf_val = []\n",
    "    for shift in 1:max_len\n",
    "        push!(scf_val, scf(param, shift))\n",
    "    end\n",
    "    key_len = argmax(scf_val)\n",
    "    return key_len\n",
    "end\n",
    "\n",
    "param = CW1_dataset.Q5_3_data_encrypted_para\n",
    "CW1_dataset.Q5_3_a_ans_len_key = find_key_len(param, 8)\n",
    "println(\"Q5.3.a: key length = \", CW1_dataset.Q5_3_a_ans_len_key)"
   ]
  },
  {
   "cell_type": "code",
   "execution_count": 198,
   "metadata": {},
   "outputs": [
    {
     "name": "stdout",
     "output_type": "stream",
     "text": [
      "Q5.3.b: key = glowed\n",
      "Q5.3.b: plaintext = everybodywhosegeniushasatopographicalbentknowsperfectlywellthatmuggletonisacorporatetownwithamayorburgessesandfreemenandanybodywhohasconsultedtheaddressesofthemayortothefreemenorthefreementothemayororbothtothecorporationorallthreetoparliamentwilllearnfromthencewhattheyoughttohaveknownbeforethatmuggletonisanancientandloyalboroughminglingazealousadvocacyofchristianprincipleswithadevotedattachmenttocommercialrightsindemonstrationwhereofthemayorcorporationandotherinhabitantshavepresentedatdiverstimesnofewerthanonethousandfourhundredandtwentypetitionsagainstthecontinuanceofnegroslaveryabroadandanequalnumberagainstanyinterferencewiththefactorysystemathomesixtyeightinfavourofthesaleoflivingsinthechurchandeightysixforabolishingsundaytradinginthestreetmrpickwickstoodintheprincipalstreetofthisillustrioustownandgazedwithanairofcuriositynotunmixedwithinterestontheobjectsaroundhimtherewasanopensquareforthemarketplaceandinthecentreofitalargeinnwithasignpostinfrontdisplayinganobjectverycommoninartbutrarelymetwithinnaturetowitabluelionwiththreebowlegsintheairbalancinghimselfontheextremepointofthecentreclawofhisfourthfoottherewerewithinsightanauctioneersandfireagencyofficeacornfactorsalinendrapersasaddlersadistillersagrocersandashoeshopthelastmentionedwarehousebeingalsoappropriatedtothediffusionofhatsbonnetswearingapparelcottonumbrellasandusefulknowledgetherewasaredbrickhousewithasmallpavedcourtyardinfrontwhichanybodymighthaveknownbelongedtotheattorneyandtherewasmoreoveranotherredbrickhousewithvenetianblindsandalargebrassdoorplatewithaverylegibleannouncementthatitbelongedtothesurgeonafewboysweremakingtheirwaytothecricketfieldandtwoorthreeshopkeeperswhowerestandingattheirdoorslookedasiftheyshouldliketobemakingtheirwaytothesamespotasindeedtoallappearancetheymighthavedonewithoutlosinganygreatamountofcustomtherebymrpickwickhavingpausedtomaketheseobservationstobenoteddownatamoreconvenientperiodhastenedtorejoinhisfriendswhohadturnedoutofthemainstreetandwerealreadywithinsightofthefieldofbattle\n"
     ]
    }
   ],
   "source": [
    "# Q5.3.b key and plaintext\n",
    "ENG_F = [0.082, 0.015, 0.028, 0.043, 0.127, 0.022, 0.020, 0.061, 0.070, 0.002, \n",
    "                0.008, 0.040, 0.024, 0.067, 0.075, 0.019, 0.001, 0.060, 0.063, 0.091, \n",
    "                0.028, 0.010, 0.023, 0.001, 0.020, 0.001]\n",
    "\n",
    "function find_key(ciphertext, key_len)\n",
    "    key_list = \"\"\n",
    "\n",
    "    for i in 1:key_len\n",
    "        # find the subtext according to key length\n",
    "        subtext = []\n",
    "        for j in i:key_len:length(ciphertext)\n",
    "            push!(subtext, ciphertext[j])\n",
    "        end\n",
    "\n",
    "        # frequency analysis\n",
    "        freq = zeros(Float64, 26)\n",
    "        for c in subtext\n",
    "            idx = Int(c) - Int('A') + 1\n",
    "            freq[idx] += 1\n",
    "        end\n",
    "        freq /= length(subtext)\n",
    "\n",
    "        # calculate scores\n",
    "        product_list = []\n",
    "        for k in 0:25\n",
    "            rcs = circshift(ENG_F, k)\n",
    "            inner_product = dot(freq, rcs)\n",
    "            push!(product_list, inner_product)\n",
    "        end\n",
    "\n",
    "        # find the key with the highest score\n",
    "        max_index = argmax(product_list)\n",
    "        key = Char(max_index + Int('a') - 1)\n",
    "        key_list *= key\n",
    "    end\n",
    "\n",
    "    return key_list\n",
    "end\n",
    "\n",
    "\n",
    "function vigenere_decryptor(ciphertext, key)\n",
    "    plaintext = \"\"\n",
    "    key_len = length(key)\n",
    " \n",
    "    for i in 1:length(ciphertext)\n",
    "        c = ciphertext[i]\n",
    "        k_index = mod(i - 1, key_len) + 1\n",
    "        k = key[k_index]\n",
    "        c_int = Int(c) - Int('A') \n",
    "        k_int = Int(k) - Int('a')\n",
    "        c_int_decrypted = mod(c_int - k_int, 26)\n",
    "        c_decrypted = Char(c_int_decrypted + Int('a'))\n",
    "        plaintext *= c_decrypted\n",
    "    end\n",
    "\n",
    "    return plaintext\n",
    "end\n",
    "\n",
    "CW1_dataset.Q5_3_b_ans_key = find_key(param, 6)\n",
    "CW1_dataset.Q5_3_b_ans_para = vigenere_decryptor(param, CW1_dataset.Q5_3_b_ans_key)\n",
    "println(\"Q5.3.b: key = \", CW1_dataset.Q5_3_b_ans_key)\n",
    "println(\"Q5.3.b: plaintext = \", CW1_dataset.Q5_3_b_ans_para)"
   ]
  },
  {
   "cell_type": "markdown",
   "id": "aab85cc1",
   "metadata": {},
   "source": [
    "### 5.4\n"
   ]
  },
  {
   "cell_type": "code",
   "execution_count": 199,
   "id": "8cece281",
   "metadata": {},
   "outputs": [
    {
     "name": "stdout",
     "output_type": "stream",
     "text": [
      "Q5.4.a: ciphertext = BMPEDTVAPWGGUHPTCYVKTFPQDNPBEEVXWBNCDFIVMBLWOXMQSNXCJWTSYNAPYRAKGOWHYOOALGLKBWYMHJCUMCNWFPQNUBKLARLBPXKZKAIZOXIQPDQYYRQNJHVISCJLIXDCSNPQUDBHEFFFOGPKFQQNEIIOQHGLPPVOMAYXVBXGSYMTEWURZVGCSQHKMUXTSDQZAXNVDYMYQYCJWOKGOCSYQCTTISPTJOLEMYNPXKQGTWHGXFFGSYYOSSHUUKYULIAKQNUMBCVXELPJOWJDZEEZWYJSXUJVZMTPCVTEVTUGZAWFBNRSIMMIPFOTRREVCEGIIZTOKZPOFUWEDWYSMFJHXSROUYGPTEXODTAFFTAUKCJTSUMFGKAVLUSXMQVOSFXEIDJZCEUAJZYXLEWZFDQSUQLEZVVNFRMSVJIZUCJPHYVJPANCEGIISESLDTUZFUIFOKCQDSXEBKLDMZHKJGXOKYCRTIWGFRNIRHQSUAIKUPOYUMHHLXWZIWVZKRYIZQYYGXZDGTUGUKRPZNJWBIFNJAJVXAEPCDIBNHYMTMJRFSQWXWKBCKLVKDWARZJHGOVZWFIGSJRDPMLEUGTVHNTJWBAEIRQHMTYVWIUUJLZTEZTIDPVZNPLVNGOAWOIMPFGYCLTTVFWMXFBRZWKUDENMGKJFVJFXDUXSAOOGAWAUCGYSTBZZYTHWKXDOJDETCFJSULPLMWIWQYJZYXRVKDAGGHYDPNQYWNTVIMZZZGDNGISMTWWTNQQVXXKVUMXUELTKRKREWFPDMRFSRXCNBEVYAGSFCFXXNVASAPARCNVCKIYBQWHUWCKVJVFDWAVDNWNMHXACQHTWPHRZYBBRAXZQNUMBVGNKAMNRJNXOBARELQKVFFXKRGLJPLFFRLQTXXDPWKNNRFQVJXANSYJCPKUVCMXLLUQQHDLDBWAFPRZHPIPNJJFMIGOUKWCTHGSCITXOTSUCSYHJOMOCDZHFJGLOVDENZTAUPPBTSMYJMPBVRNEALXELYZCSNHJAHZMIFBYAKUBWLSBTQEMYPVSGYCBGROSEJRXINLIVLQPHDKBAVGBTBRSGUXQKOVLZQNSSTJIODEHHWNVHDPMPPHFWKSIJUMANYAPZQDREXXTWUWARLRAHFVTRQXRAURRXIIJRGROYTEPYOXUQOCADCJFNWCAILDUPXQMJBSOOUKJBPXRKLJFCXKWOCOECYKPBCROGYVIQLEKORFUPLABTCJIEBVSODKYLLSZOMPXFJTFHHCXCKPMREBROKLBTQNMJPJBDAVHKLQNIOYDQGUMZXTDTEBJWWOASEWMBRNRVDUBYEZMCNHTNNXVODEHYKRXTDFGPMBTCPBHSOXGRZKLTTNAHQEGHLTADXEFYMVHAKGETBYYUXTXTVGPNNEYWLPQJUNXCAGVBIEBXATBCUTJTLSBLEUMBVCRALMBOQHKNJLZJPJZBYKADANKVJMXNRGZKMOKVXSPBLWLMPFNJRXAVICXMTMZAETQSWHZFGVICIQEFZNZYOVRXPPCHFKNIQSFEFJAPOYUAUVIOEZNMWQVQEAYDDQTLANMLQASETVBCXZFXYIEGEOFRVDSRHBSSEYQEVXQKKKNJZMXILCYHHPEKBAFAXZWOQSHJBARQANVMUTZVXVHAPRXSLARCGZOZMKKKROCOORBVQCRTZWRALZWDSNJRMUWVYVVAXCFYYRQNOLEMYLOYJDJ\n"
     ]
    }
   ],
   "source": [
    "# Q5.4.a Block cipher encryption\n",
    "\n",
    "function block_cipher_encryptor(A, b, plaintext)\n",
    "    ciphertext = \"\"\n",
    "    c_int_list = []\n",
    "\n",
    "    for c in plaintext\n",
    "        c_int = Int(c) - Int('a')\n",
    "        push!(c_int_list, c_int)\n",
    "    end\n",
    "\n",
    "    # break integer list into blocks of dim(A)\n",
    "    c_blocks = []\n",
    "    dim = size(A, 1)\n",
    "    for i in 1:dim:length(c_int_list)\n",
    "        if i+(dim-1) > length(c_int_list)\n",
    "            c_block = c_int_list[i:end]\n",
    "\n",
    "            # zero padding\n",
    "            while length(c_block) < 5 \n",
    "                push!(c_block, 0)\n",
    "            end\n",
    "        else\n",
    "            c_block = c_int_list[i:i+(dim-1)]\n",
    "        end\n",
    "        push!(c_blocks, c_block)\n",
    "    end\n",
    "\n",
    "    # encrypt each block\n",
    "    for c_block in c_blocks\n",
    "        c_encrypted = mod.(A * c_block + b, 26)\n",
    "        for c in c_encrypted\n",
    "            c_char = Char(c + Int('A'))\n",
    "            ciphertext *= c_char\n",
    "        end\n",
    "    end\n",
    "\n",
    "    # remove zero padding\n",
    "    extra = dim - mod(length(plaintext), dim)\n",
    "    return ciphertext[1:end-extra]\n",
    "end\n",
    "\n",
    "A = CW1_dataset.Q5_4_data_A\n",
    "b = CW1_dataset.Q5_4_data_b\n",
    "plaintext = CW1_dataset.Q5_4_plain_text\n",
    "\n",
    "CW1_dataset.Q5_4_a_ans = block_cipher_encryptor(A, b, plaintext)\n",
    "println(\"Q5.4.a: ciphertext = \", CW1_dataset.Q5_4_a_ans)    "
   ]
  },
  {
   "cell_type": "code",
   "execution_count": 200,
   "metadata": {},
   "outputs": [
    {
     "name": "stdout",
     "output_type": "stream",
     "text": [
      "Q5.4.b: ciphertext frequency = [0.04324956165984804, 0.03565166569257744, 0.03682057276446522, 0.03272939801285798, 0.0385739333722969, 0.037405026300409115, 0.03331385154880187, 0.032144944476914086, 0.03272939801285798, 0.03974284044418469, 0.04032729398012858, 0.03682057276446522, 0.03915838690824079, 0.040911747516072475, 0.0385739333722969, 0.04032729398012858, 0.037405026300409115, 0.040911747516072475, 0.03682057276446522, 0.04266510812390415, 0.03623611922852133, 0.04558737580362361, 0.03682057276446522, 0.046756282875511396, 0.04149620105201637, 0.03682057276446522]\n"
     ]
    }
   ],
   "source": [
    "# Q5.4.b Letter frequency\n",
    "\n",
    "ciphertext = block_cipher_encryptor(A, b, plaintext)\n",
    "ciphertext_frequency = proptable(collect(ciphertext))\n",
    "CW1_dataset.Q5_4_b_ans = ciphertext_frequency\n",
    "println(\"Q5.4.b: ciphertext frequency = \", ciphertext_frequency)"
   ]
  },
  {
   "cell_type": "markdown",
   "metadata": {},
   "source": [
    "### Q5.4.b Difference between the letter frequency of the ciphertext and that of the English language\n",
    "The letter frequency of English language follows a distinct pattern with the most frequent letter being 'e' and the least frequent letter being 'z'. On the contrary, the letter frequency of Hill Block Cipher is distributed more randomly around 0.03 to 0.04. Therefore, higher entropy results in a less predictable letter frequency distribution which is more secure.\n"
   ]
  },
  {
   "cell_type": "markdown",
   "id": "984c62c7",
   "metadata": {},
   "source": [
    "### 6.1\n"
   ]
  },
  {
   "cell_type": "code",
   "execution_count": 201,
   "id": "69fbab6a",
   "metadata": {},
   "outputs": [
    {
     "name": "stdout",
     "output_type": "stream",
     "text": [
      "y is 47467\n"
     ]
    }
   ],
   "source": [
    "# 6.1 Chinese Remainder Theorem\n",
    "\n",
    "function coprime_check(n)\n",
    "    for i in 1:length(n)\n",
    "        for j in (i+1):length(n)\n",
    "            if gcd(n[i], n[j]) != 1\n",
    "                return false          \n",
    "            end\n",
    "        end\n",
    "    end\n",
    "    return true\n",
    "end\n",
    "\n",
    "\n",
    "function crt(a, n)\n",
    "    if coprime_check(n)\n",
    "        Z = prod(n)\n",
    "        x = 0\n",
    "        for i in 1:length(n)\n",
    "            z_i = div(Z, n[i])\n",
    "            z_inv = invmod(z_i, n[i])\n",
    "            x += a[i] * z_inv * z_i\n",
    "        end\n",
    "        return mod(x, Z)\n",
    "    else\n",
    "        println(\"cannot be solved with Chinese Remainder Theorem\")\n",
    "    end\n",
    "end\n",
    "\n",
    "a_1 = CW1_dataset.Q6_1_data_a₁\n",
    "a_2 = CW1_dataset.Q6_1_data_a₂\n",
    "a_3 = CW1_dataset.Q6_1_data_a₃\n",
    "n_1 = CW1_dataset.Q6_1_data_n₁\n",
    "n_2 = CW1_dataset.Q6_1_data_n₂\n",
    "n_3 = CW1_dataset.Q6_1_data_n₃\n",
    "\n",
    "a = [a_1, a_2, a_3]\n",
    "n = [n_1, n_2, n_3]\n",
    "CW1_dataset.Q6_1_ans_y = crt(a, n)\n",
    "println(\"y is \", CW1_dataset.Q6_1_ans_y)"
   ]
  },
  {
   "cell_type": "markdown",
   "id": "af6cbd19",
   "metadata": {},
   "source": [
    "### 6.2\n"
   ]
  },
  {
   "cell_type": "markdown",
   "metadata": {},
   "source": [
    "In this case, since 101 is a prime number, and $101 \\nmid 2$, based on Fermat's Little Theroem, we could say that \n",
    "$$\n",
    "\\begin{equation*}\n",
    "    \\bm{2^{101-1} \\equiv 1 (mod\\ 101)} \\Rightarrow \\bm{2^{100} \\equiv 1 (mod\\  101)}\n",
    "\\end{equation*}\n",
    "$$\n",
    "Therefore we could say that \n",
    "$$\n",
    "\\begin{equation*}\n",
    "    \\bm{\\left(2^{100}\\right)^n \\equiv (1)^n (mod\\  101)} \\Rightarrow \\bm{\\left(2^{100}\\right)^n \\equiv 1 (mod\\  101)}\n",
    "\\end{equation*}\n",
    "$$\n",
    "Since in our case, input $\\bm{m}$ is very large, we could frist find the reminder of $\\bm{m/100}$, if $\\bm{2^{reminder} < 101}$, then the answer would be this value, otherwise, we could compute the powers of 2 and then divide that until $\\bm{2^{reminder}} < 101$, since the largest power of 2 we need to compute in this case is $\\bm{2^{99}}$, it will be very quickly to compute, therefore efficient. \n",
    "\n",
    "In my case, the input m is 127101, the reminder of $\\bm{m}/100$ is 1, therefore \n",
    "$$\n",
    "\\begin{equation*}\n",
    "    \\bm{2^m \\equiv 2^1 (mod\\ 101)} \\Rightarrow \\bm{2^m \\equiv 2 (mod\\ 101)} \n",
    "\\end{equation*}\n",
    "$$"
   ]
  },
  {
   "cell_type": "code",
   "execution_count": 202,
   "metadata": {},
   "outputs": [
    {
     "name": "stdout",
     "output_type": "stream",
     "text": [
      "Q6.2: reminder = 2\n"
     ]
    }
   ],
   "source": [
    "CW1_dataset.Q6_2_data_m\n",
    "CW1_dataset.Q6_2_data_reminder = 2\n",
    "println(\"Q6.2: reminder = \", CW1_dataset.Q6_2_data_reminder)"
   ]
  },
  {
   "cell_type": "markdown",
   "id": "c09ac85a",
   "metadata": {},
   "source": [
    "### 6.3\n"
   ]
  },
  {
   "cell_type": "code",
   "execution_count": 203,
   "id": "09c21d4b",
   "metadata": {},
   "outputs": [
    {
     "name": "stdout",
     "output_type": "stream",
     "text": [
      "false\n"
     ]
    }
   ],
   "source": [
    "# 6.3.a check whether a number a is a primitive root of the prime number p\n",
    "\n",
    "function is_primitive_root(a, p)\n",
    "\n",
    "    # Euler's totient function\n",
    "    phi = p - 1\n",
    "    \n",
    "    for i in keys(factor(phi))\n",
    "        order = div(phi, i)\n",
    "        if powermod(a, order, p) == 1\n",
    "            return false\n",
    "        end\n",
    "    end\n",
    "    return true\n",
    "end\n",
    "\n",
    "p = CW1_dataset.Q6_3_a_data_p\n",
    "a = CW1_dataset.Q6_3_a_data_a\n",
    "CW1_dataset.Q6_3_a_ans_isprimitive = is_primitive_root(a, p)\n",
    "println(CW1_dataset.Q6_3_a_ans_isprimitive)"
   ]
  },
  {
   "cell_type": "code",
   "execution_count": 204,
   "metadata": {},
   "outputs": [
    {
     "name": "stdout",
     "output_type": "stream",
     "text": [
      "the next primitive root is 14493155518402\n"
     ]
    }
   ],
   "source": [
    "# 6.3.b next primitive root\n",
    "\n",
    "function next_primitive_root(a, p)\n",
    "    if is_primitive_root(a, p)\n",
    "        return a\n",
    "    else\n",
    "        for i in 1:p\n",
    "            if is_primitive_root(a + i, p)\n",
    "                return a + i\n",
    "            end\n",
    "        end\n",
    "    end\n",
    "    println(\"No primitive root\")\n",
    "end\n",
    "\n",
    "\n",
    "p = CW1_dataset.Q6_3_b_data_p\n",
    "a = CW1_dataset.Q6_3_b_data_a\n",
    "CW1_dataset.Q6_3_a_ans_x = next_primitive_root(a, p)\n",
    "println(\"the next primitive root is \", CW1_dataset.Q6_3_a_ans_x)"
   ]
  },
  {
   "cell_type": "code",
   "execution_count": 205,
   "metadata": {},
   "outputs": [],
   "source": [
    "# save\n",
    "\n",
    "jldopen(\"Jacky Jiang1860908StudentFile.jld2\", \"w\") do file\n",
    "    write(file, \"CourseWork_1\", CW1_dataset)\n",
    "end"
   ]
  }
 ],
 "metadata": {
  "kernelspec": {
   "display_name": "Julia 1.9.3",
   "language": "julia",
   "name": "julia-1.9"
  },
  "language_info": {
   "file_extension": ".jl",
   "mimetype": "application/julia",
   "name": "julia",
   "version": "1.9.3"
  }
 },
 "nbformat": 4,
 "nbformat_minor": 5
}
