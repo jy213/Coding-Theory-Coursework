{
 "cells": [
  {
   "cell_type": "markdown",
   "id": "9fdea660",
   "metadata": {},
   "source": [
    "# Coursework 2 - Coding Theory\n",
    "\n",
    "### PLAGIARISM/COLLUSION DECLARATION\n",
    "\n",
    "Coursework submitted for assessment must be the original work of you and your group. Assignments are subjected to regular checks for plagiarism and/or collusion. Plagiarism is the presentation of another person’s thoughts or words (those outside your group) as if they were your own. Collusion involves obtaining help from someone outside your group to complete your work. In preparing your coursework, you should not seek help, or copy from any other person or source, including the\n",
    "Internet, without proper and explicit acknowledgement.\n",
    "\n",
    "There is a procedure in place for you to declare individual contributions within your group for courswork. You must declare the contributions fairly and accurately.\n",
    "\n",
    "You must not disclose your solutions or insights related to coursework with anyone else, including future students or the Internet.\n",
    "\n",
    "By acknowledging the the statements above, you are declaring that both this and all subsequent pieces of coursework are, and will remain, the original work of you and your group. \n",
    "\n",
    "* Submissions will not be accepted without the aforementioned declaration.\n",
    "\n",
    "* Members of a group are deemed to have collective responsibility for the integrity for work submitted and are liable for any penalty imposed, proportionate to their contributions. \n",
    "\n"
   ]
  },
  {
   "cell_type": "code",
   "execution_count": 164,
   "id": "d8d22128",
   "metadata": {},
   "outputs": [],
   "source": [
    "using FileIO, JLD2, Primes, Nemo"
   ]
  },
  {
   "cell_type": "code",
   "execution_count": 165,
   "id": "c07e984b",
   "metadata": {},
   "outputs": [
    {
     "data": {
      "text/plain": [
       "CourseWork_2"
      ]
     },
     "metadata": {},
     "output_type": "display_data"
    }
   ],
   "source": [
    "Base.@kwdef mutable struct CourseWork_2\n",
    "    CID::Int\n",
    "    Plagiarism_declare::Union{Missing,Bool}\n",
    "    Demo_willing::Union{Missing,Bool}\n",
    "    \n",
    "    \"Chapter 7\"\n",
    "    Q7_1_a_data_p::String\n",
    "    Q7_1_a_data_q::String\n",
    "    Q7_1_a_ans_e::Union{Missing, Int}\n",
    "\n",
    "    Q7_1_b_ans_i::Union{Missing, String}\n",
    "    Q7_1_b_ans_ii::Union{Missing, String}\n",
    "    Q7_1_b_ans_iii::Union{Missing, String}\n",
    "\n",
    "    Q7_2_data_n::String\n",
    "    Q7_2_data_e::String\n",
    "    Q7_2_data_ciphertext::String\n",
    "    Q7_2_ans_plaintext::Union{Missing, Int}\n",
    "\n",
    "    Q7_3_data_p::String\n",
    "    Q7_3_a_ans_g::Union{Missing, Int}\n",
    "    Q7_3_b_ans_Alice_pk::Union{Missing, String}\n",
    "    Q7_3_b_ans_Bob_pk::Union{Missing, String}\n",
    "    Q7_3_c_ans_secret_key::Union{Missing, String}\n",
    "    Q7_3_d_data_k::String\n",
    "    Q7_3_d_ans_enc_msg::Union{Missing, Array{String}}\n",
    "    Q7_3_e_ans_signed_msg::Union{Missing, Array{String}}\n",
    "    Q7_3_f_data_msg::Array{String}\n",
    "    Q7_3_f_ans_T_or_F::Union{Missing, Bool}\n",
    "\n",
    "    Q7_4_data_p::String\n",
    "    Q7_4_data_x_vector::Array{String}\n",
    "    Q7_4_data_y_vector::Array{String}\n",
    "    Q7_4_ans_error_idx::Union{Missing, Int}\n",
    "    Q7_4_ans_secret::Union{Missing, String}\n",
    "\n",
    "    \"Chapter 8\"\n",
    "    # Q8.2\n",
    "    Q8_2_data_p :: Array{Int64,1}\n",
    "\n",
    "    Q8_2_a_ans_is_irreducible :: Union{Missing,Bool}\n",
    "    Q8_2_a_ans_factor_polynomials :: Union{Missing, Vector{Vector{Int64}}}\n",
    "\n",
    "    Q8_2_b_ans_is_irreducible :: Union{Missing,Bool}\n",
    "    Q8_2_b_ans_factor_polynomials :: Union{Missing, Vector{Vector{Int64}}}\n",
    "\n",
    "    Q8_2_c_ans_is_irreducible :: Union{Missing,Bool}\n",
    "    Q8_2_c_ans_factor_polynomials :: Union{Missing, Vector{Vector{Int64}}}\n",
    "\n",
    "    # Q8.3\n",
    "    Q8_3_a_data_m :: Vector{Int64}\n",
    "    Q8_3_a_data_a :: Vector{Int64}\n",
    "    Q8_3_a_data_b :: Vector{Int64}\n",
    "    Q8_3_a_ans_p :: Union{Missing, Vector{Vector{Int64}}}\n",
    "\n",
    "    Q8_3_b_data_m :: Vector{Int64}\n",
    "    Q8_3_b_data_a :: Vector{Int64}\n",
    "    Q8_3_b_data_b :: Vector{Int64}\n",
    "    Q8_3_b_ans_p :: Union{Missing, Vector{Vector{Int64}}}\n",
    "\n",
    "    Q8_3_c_data_m :: Vector{Int64}\n",
    "    Q8_3_c_data_a :: Vector{Int64}\n",
    "    Q8_3_c_data_b :: Vector{Int64}\n",
    "    Q8_3_c_ans_p :: Union{Missing, Vector{Vector{Int64}}}\n",
    "\n",
    "    # Q8.4\n",
    "    Q8_4_a_data :: Vector{Int64}\n",
    "    Q8_4_a_ans :: Union{Missing, Vector{Vector{Int64}}}\n",
    "\n",
    "    Q8_4_b_data :: Matrix{Vector{Int64}}\n",
    "    Q8_4_b_ans_det :: Union{Missing,  Vector{Int64}}\n",
    "    Q8_4_b_ans_inv :: Union{Missing, Matrix{Vector{Int64}}} \n",
    "    \n",
    "    # Q8.5\n",
    "    Q8_5_a_data :: Vector{Int64}\n",
    "    Q8_5_a_ans :: Union{Missing, Vector{Vector{Int64}}}\n",
    "\n",
    "    Q8_5_b_data :: Matrix{Vector{Int64}}\n",
    "    Q8_5_b_ans_det :: Union{Missing,  Vector{Int64}} \n",
    "    Q8_5_b_ans_inv :: Union{Missing, Matrix{Vector{Int64}}} \n",
    "\n",
    "end"
   ]
  },
  {
   "cell_type": "code",
   "execution_count": 188,
   "id": "052f7342",
   "metadata": {},
   "outputs": [
    {
     "data": {
      "text/plain": [
       "CourseWork_2(1860908, true, true, \"15337282669613332877\", \"32464649317698805297\", 305409503813, \"278901694838658224479443376620642043383\", \"174628805673262922902789642983939869981\", \"481956236949943487085256065449286581347\", \"1251131583789418040429623740459694334891\", \"811503409307\", \"1123228997141828198862121014761222335096\", 50606151820, \"65271237223578399217\", 305409503814, \"4480286846880020732\", \"32037218242660530784\", \"21276278004357933568\", \"4907060598840416519\", [\"23940373890325170934\", \"3361768991263091298\"], [\"1905220514\", \"17187461587269921138\", \"44558401306710970648\"], [\"1905220514\", \"15362121511521475510\", \"1345521585542961787\"], false, \"41600330519887680887\", [\"315972608166655826\", \"14070883699091159853\", \"26312558838506868289\", \"27983554244928363728\", \"32375964514222723717\", \"35108378800457261008\", \"40929643776317494361\"], [\"37145150288195989295\", \"7607012891159812982\", \"7458308704082574366\", \"28840806313684917814\", \"20626244020954737596\", \"40769435838778698491\", \"30315694869855362021\"], 7, \"40008458807357777472\", [1, 0, 1, 1, 1, 1, 0, 1, 1], true, [[1, 0, 1, 1, 1, 1, 0, 1, 1]], true, [[1, 0, 1, 1, 1, 1, 0, 1, 1]], false, [[3, 1], [3, 1], [3, 1], [4, 3, 1], [2, 4, 4, 1]], [2, 0, 0, 2, 0, 2, 2, 2], [1, 1, 1, 1, 0, 0, 1], [2, 2, 1, 2, 0, 2], Vector{Int64}[], [2, 2, 2, 2, 1, 2], [2, 0, 2, 2, 2], [2, 2, 0, 1], [[1, 0, 1, 1, 1]], [1, 0, 0, 0, 1, 2, 2, 1], [2, 2, 0, 0, 0, 0, 2], [2, 0, 2, 1, 2, 1], [[2, 0, 0, 2], [1, 1, 1, 2, 0, 1], [0, 2, 2, 2, 0, 2], [2, 2, 1, 0, 0, 0, 1], [1, 0, 2, 0, 0, 1, 1], [0, 1, 0, 0, 0, 2, 1], [2, 1, 2, 1, 0, 0, 2], [1, 2, 0, 1, 0, 1, 2], [0, 0, 1, 1, 0, 2, 2]], [1, 1, 0, 1, 1, 0, 1], [[0, 1], [0, 0, 1], [1, 1, 1], [1, 0, 0, 1], [0, 1, 0, 1], [1, 1, 0, 1], [0, 0, 1, 1], [1, 0, 1, 1], [0, 0, 0, 0, 1], [1, 1, 0, 0, 1]  …  [1, 0, 0, 0, 1, 1], [0, 1, 0, 0, 1, 1], [1, 1, 1, 0, 1, 1], [0, 0, 0, 1, 1, 1], [1, 0, 0, 1, 1, 1], [0, 1, 0, 1, 1, 1], [1, 1, 0, 1, 1, 1], [0, 0, 1, 1, 1, 1], [1, 0, 1, 1, 1, 1], [0, 1, 1, 1, 1, 1]], [[0] [0, 0, 1, 1] … [0, 0, 1, 1, 1, 1] [0, 1, 1, 0, 1, 1]; [0, 1, 1] [0, 1, 0, 1, 1] … [1, 1, 1, 0, 1] [1, 1, 0, 0, 1]; … ; [1, 0, 1, 1, 1] [0, 1, 0, 1, 1, 1] … [1, 1, 0, 1] [0]; [1, 1, 1, 1] [1, 0, 1, 1] … [1, 0, 1, 1] [1, 1, 1, 0, 1]], [0, 1, 0, 1, 0, 1], [[0, 1, 0, 1, 1, 1] [0, 0, 0, 1, 1] … [1, 1] [0, 0, 0, 1, 1, 1]; [1, 0, 1, 0, 1, 1] [0, 0, 1, 0, 0, 1] … [0, 0, 1, 0, 1, 1] [1, 0, 0, 1, 1, 1]; … ; [0, 0, 1] [0, 1, 1, 0, 1] … [1, 0, 0, 1] [1, 1, 1, 1, 1, 1]; [1, 0, 0, 1, 0, 1] [1, 1, 0, 1, 0, 1] … [0, 0, 0, 1, 0, 1] [1, 1, 1, 0, 1, 1]], [2, 2, 1, 1, 1], [[0, 1], [0, 2], [0, 1, 1], [0, 2, 1], [2, 2, 1], [0, 1, 2], [1, 1, 2], [0, 2, 2], [0, 0, 0, 1], [0, 2, 0, 1]  …  [1, 1, 0, 2], [2, 0, 1, 2], [0, 2, 1, 2], [1, 2, 1, 2], [1, 0, 2, 2], [2, 0, 2, 2], [0, 1, 2, 2], [2, 1, 2, 2], [1, 2, 2, 2], [2, 2, 2, 2]], [[2, 1, 1] [2, 0, 0, 2] … [0, 0, 1] [1, 2, 2, 2]; [1, 0, 1] [0, 0, 1, 2] … [1, 1, 1] [2, 2]; … ; [1, 0, 0, 2] [2, 2, 1] … [2, 1, 2] [2, 1, 2, 2]; [2, 2, 1, 2] [1, 0, 1, 2] … [1, 2, 1, 1] [1, 1]], [1, 1, 0, 2], [[2, 1, 1, 1] [2, 2, 2] … [2, 2] [0, 2, 2, 2]; [1, 0, 1, 1] [2, 0, 1] … [0, 2, 2, 1] [1, 2, 2]; … ; [0, 0, 1, 2] [2, 2, 1, 2] … [1, 2] [0, 0, 0, 1]; [2, 1, 1, 2] [0, 2, 1, 2] … [2, 1, 1, 1] [1, 0, 1]])"
      ]
     },
     "metadata": {},
     "output_type": "display_data"
    }
   ],
   "source": [
    "data = JLD2.load(\"Jacky Jiang1860908StudentFile.jld2\")\n",
    "CW2_DATA = data[\"CourseWork_2\"]"
   ]
  },
  {
   "cell_type": "code",
   "execution_count": 167,
   "metadata": {},
   "outputs": [
    {
     "data": {
      "text/plain": [
       "true"
      ]
     },
     "metadata": {},
     "output_type": "display_data"
    }
   ],
   "source": [
    "CW2_DATA.CID = 01860908\n",
    "CW2_DATA.Plagiarism_declare = true\n",
    "CW2_DATA.Demo_willing = true"
   ]
  },
  {
   "cell_type": "markdown",
   "id": "516ef84b",
   "metadata": {},
   "source": [
    "### Important Note for Data Processing:"
   ]
  },
  {
   "cell_type": "code",
   "execution_count": 168,
   "id": "8f7eae19",
   "metadata": {},
   "outputs": [],
   "source": [
    "# If the type of numeric data in your file is string, please convert these to BigInt before performing any numerical calculations. For example:\n",
    "# Q7_1_a_data_p = parse(BigInt, Q7_1_a_data_p); \n",
    "# Q7_4_data_x_vector = parse.(BigInt, Q7_4_data_x_vector);\n",
    "\n",
    "# If the numeric answer is asked to save in a string type, convert your answer into string type before saving into CourseWork_2 structure. For example:\n",
    "# Q7_1_b_ans_i = string(Q7_1_b_ans_i);\n",
    "# Q7_3_e_ans_signed_msg = string.(Q7_3_e_ans_signed_msg)."
   ]
  },
  {
   "cell_type": "markdown",
   "id": "237a63e0",
   "metadata": {},
   "source": [
    "### 7.1"
   ]
  },
  {
   "cell_type": "code",
   "execution_count": 169,
   "id": "db08cb67",
   "metadata": {},
   "outputs": [
    {
     "name": "stdout",
     "output_type": "stream",
     "text": [
      "Q7.1.a: 305409503813\n"
     ]
    }
   ],
   "source": [
    "# Q7.1.a\n",
    "\n",
    "p = parse(BigInt, CW2_DATA.Q7_1_a_data_p)\n",
    "q = parse(BigInt, CW2_DATA.Q7_1_a_data_q)\n",
    "n = p * q\n",
    "lower_bound = 305409503811\n",
    "\n",
    "function find_e(p, q)\n",
    "    t = (p - 1) * (q - 1)\n",
    "    for e in lower_bound:t\n",
    "        if gcd(e, t) == 1\n",
    "            return e\n",
    "        end\n",
    "    end\n",
    "end\n",
    "\n",
    "e = find_e(p, q)\n",
    "CW2_DATA.Q7_1_a_ans_e = e\n",
    "println(\"Q7.1.a: \", e)\n"
   ]
  },
  {
   "cell_type": "code",
   "execution_count": 170,
   "metadata": {},
   "outputs": [
    {
     "data": {
      "text/plain": [
       "map_letters (generic function with 1 method)"
      ]
     },
     "metadata": {},
     "output_type": "display_data"
    }
   ],
   "source": [
    "function map_letters(plaintext)\n",
    "    num = BigInt(0)\n",
    "    for l in plaintext\n",
    "        int_l = Int(l) - Int('a') + 1\n",
    "        num = num*100+int_l\n",
    "    end\n",
    "    return num\n",
    "end"
   ]
  },
  {
   "cell_type": "code",
   "execution_count": 171,
   "metadata": {},
   "outputs": [
    {
     "name": "stdout",
     "output_type": "stream",
     "text": [
      "Q7.1.b.i: 278901694838658224479443376620642043383\n",
      "Q7.1.b.ii: 174628805673262922902789642983939869981\n",
      "Q7.1.b.iii: 481956236949943487085256065449286581347\n"
     ]
    }
   ],
   "source": [
    "# Q7.1.b\n",
    "\n",
    "function RSA_encryptor(plaintext, n, e)\n",
    "    m = map_letters(plaintext)\n",
    "    c = powermod(m, e, n)\n",
    "    return string(c)\n",
    "end\n",
    "\n",
    "CW2_DATA.Q7_1_b_ans_i = RSA_encryptor(\"bat\", n, e)\n",
    "CW2_DATA.Q7_1_b_ans_ii = RSA_encryptor(\"cat\", n, e)\n",
    "CW2_DATA.Q7_1_b_ans_iii = RSA_encryptor(\"hat\", n, e)\n",
    "println(\"Q7.1.b.i: \", CW2_DATA.Q7_1_b_ans_i)\n",
    "println(\"Q7.1.b.ii: \", CW2_DATA.Q7_1_b_ans_ii)\n",
    "println(\"Q7.1.b.iii: \", CW2_DATA.Q7_1_b_ans_iii)"
   ]
  },
  {
   "cell_type": "markdown",
   "id": "9b8ef128",
   "metadata": {},
   "source": [
    "### 7.2"
   ]
  },
  {
   "cell_type": "code",
   "execution_count": 172,
   "id": "c72d0565",
   "metadata": {},
   "outputs": [
    {
     "data": {
      "text/plain": [
       "50606151820"
      ]
     },
     "metadata": {},
     "output_type": "display_data"
    }
   ],
   "source": [
    "# Q7.2\n",
    "\n",
    "using Primes\n",
    "\n",
    "function RSA_decryptor(ciphertext, n, e)\n",
    "\n",
    "    # find p and q given n\n",
    "    p = round(BigInt, sqrt(n))\n",
    "    if Primes.isprime(p) == false\n",
    "        p = nextprime(p)\n",
    "    end\n",
    "    q = div(n, p)\n",
    "\n",
    "    t = (p - 1) * (q - 1)\n",
    "    d = invmod(e, t)\n",
    "    m = powermod(ciphertext, d, n)\n",
    "    return m\n",
    "end\n",
    "\n",
    "n = parse(BigInt, CW2_DATA.Q7_2_data_n)\n",
    "e = parse(BigInt, CW2_DATA.Q7_2_data_e)\n",
    "ciphertext = parse(BigInt, CW2_DATA.Q7_2_data_ciphertext)\n",
    "CW2_DATA.Q7_2_ans_plaintext = RSA_decryptor(ciphertext, n, e)"
   ]
  },
  {
   "cell_type": "markdown",
   "id": "c7c0a8bd",
   "metadata": {},
   "source": [
    "### 7.3"
   ]
  },
  {
   "cell_type": "code",
   "execution_count": 173,
   "metadata": {},
   "outputs": [
    {
     "data": {
      "text/plain": [
       "305409503814"
      ]
     },
     "metadata": {},
     "output_type": "display_data"
    }
   ],
   "source": [
    "# Q7.3.a\n",
    "\n",
    "function is_primitive_root(a, p)\n",
    "    # Euler's totient function\n",
    "    phi = p - 1\n",
    "    \n",
    "    for i in keys(Primes.factor(phi))\n",
    "        order = div(phi, i)\n",
    "        if powermod(a, order, p) == 1\n",
    "            return false\n",
    "        end\n",
    "    end\n",
    "    return true\n",
    "end\n",
    "\n",
    "function find_primitive_root(p)\n",
    "    lower_bound = 305409503811\n",
    "    for g in lower_bound:p\n",
    "        if is_primitive_root(g, p) == true\n",
    "            return g\n",
    "        end\n",
    "    end\n",
    "end\n",
    "p = parse(BigInt, CW2_DATA.Q7_3_data_p)\n",
    "CW2_DATA.Q7_3_a_ans_g = find_primitive_root(p)"
   ]
  },
  {
   "cell_type": "code",
   "execution_count": 174,
   "metadata": {},
   "outputs": [
    {
     "name": "stdout",
     "output_type": "stream",
     "text": [
      "Q7.3.b.Alice's public key: 4480286846880020732\n",
      "Q7.3.b.Bob's public key: 32037218242660530784\n"
     ]
    }
   ],
   "source": [
    "# Q7.3.b\n",
    "# Q7_3_b_ans_Alice_pk::Union{Missing, String}\n",
    "# Q7_3_b_ans_Bob_pk::Union{Missing, String}\n",
    "\n",
    "function find_public_key(secret_key, g, p)\n",
    "    secret_int = map_letters(secret_key)\n",
    "    a = powermod(g, secret_int, p)\n",
    "    return a\n",
    "end\n",
    "\n",
    "g = CW2_DATA.Q7_3_a_ans_g\n",
    "CW2_DATA.Q7_3_b_ans_Alice_pk = string(find_public_key(\"apple\", g, p))\n",
    "CW2_DATA.Q7_3_b_ans_Bob_pk = string(find_public_key(\"banana\", g, p))\n",
    "println(\"Q7.3.b.Alice's public key: \", CW2_DATA.Q7_3_b_ans_Alice_pk)\n",
    "println(\"Q7.3.b.Bob's public key: \", CW2_DATA.Q7_3_b_ans_Bob_pk)"
   ]
  },
  {
   "cell_type": "code",
   "execution_count": 175,
   "metadata": {},
   "outputs": [
    {
     "data": {
      "text/plain": [
       "\"21276278004357933568\""
      ]
     },
     "metadata": {},
     "output_type": "display_data"
    }
   ],
   "source": [
    "# Q7.3.c\n",
    "# Q7_3_c_ans_secret_key::Union{Missing, String}\n",
    "\n",
    "function shared_secret_key(secret_key_alice, secret_key_bob, g, p)\n",
    "    a = map_letters(secret_key_alice)\n",
    "    b = map_letters(secret_key_bob)\n",
    "    K = powermod(g, (a * b), p)\n",
    "    return string(K)\n",
    "end\n",
    "\n",
    "CW2_DATA.Q7_3_c_ans_secret_key = shared_secret_key(\"apple\", \"banana\", g, p)\n"
   ]
  },
  {
   "cell_type": "code",
   "execution_count": 176,
   "metadata": {},
   "outputs": [
    {
     "data": {
      "text/plain": [
       "2-element Vector{String}:\n",
       " \"23940373890325170934\"\n",
       " \"3361768991263091298\""
      ]
     },
     "metadata": {},
     "output_type": "display_data"
    }
   ],
   "source": [
    "# Q7.3.d\n",
    "# Q7_3_d_data_k::String\n",
    "# Q7_3_d_ans_enc_msg::Union{Missing, Array{String}}\n",
    "\n",
    "function ElGamal_encryptor(plaintext, public_key, g, p, k)\n",
    "    m = map_letters(plaintext)\n",
    "    a = public_key\n",
    "    g_k = powermod(g, k, p)\n",
    "    ma_k = mod(mod(m, p)*powermod(a, k, p),p)\n",
    "    ciphertext = [string(g_k), string(ma_k)]\n",
    "    return ciphertext\n",
    "end\n",
    "\n",
    "k = parse(BigInt, CW2_DATA.Q7_3_d_data_k)\n",
    "a = find_public_key(\"apple\", g, p)\n",
    "CW2_DATA.Q7_3_d_ans_enc_msg = ElGamal_encryptor(\"nice\", a, g, p, k)"
   ]
  },
  {
   "cell_type": "code",
   "execution_count": 177,
   "metadata": {},
   "outputs": [
    {
     "data": {
      "text/plain": [
       "3-element Vector{String}:\n",
       " \"1905220514\"\n",
       " \"17187461587269921138\"\n",
       " \"44558401306710970648\""
      ]
     },
     "metadata": {},
     "output_type": "display_data"
    }
   ],
   "source": [
    "# Q7.3.e\n",
    "# Q7_3_e_ans_signed_msg::Union{Missing, Array{String}}\n",
    "\n",
    "function ElGamal_signature(message, private_key, g, p)\n",
    "    m = map_letters(message)\n",
    "    a_1 = map_letters(private_key)\n",
    "\n",
    "    # find k\n",
    "    k_val = 0\n",
    "    for k in 1000:p\n",
    "        if gcd(k, p - 1) == 1\n",
    "            k_val = k\n",
    "            break      \n",
    "        end\n",
    "    end\n",
    "    \n",
    "    r = powermod(g, k_val, p)\n",
    "    k_inv = invmod(k_val, p - 1)\n",
    "    s = mod(k_inv * (m - a_1 * r), p - 1)\n",
    "    return m, r, s  \n",
    "end\n",
    "\n",
    "m, r, s = ElGamal_signature(\"seven\", \"apple\", g, p)\n",
    "CW2_DATA.Q7_3_e_ans_signed_msg = [string(m), string(r), string(s)]"
   ]
  },
  {
   "cell_type": "code",
   "execution_count": 178,
   "metadata": {},
   "outputs": [
    {
     "data": {
      "text/plain": [
       "false"
      ]
     },
     "metadata": {},
     "output_type": "display_data"
    }
   ],
   "source": [
    "# Q7.3.f\n",
    "# Q7_3_f_data_msg::Array{String}\n",
    "# Q7_3_f_ans_T_or_F::Union{Missing, Bool}\n",
    "\n",
    "function signature_verification(msg, public_key)\n",
    "    m = parse(BigInt, msg[1])\n",
    "    r = parse(BigInt, msg[2])\n",
    "    s = parse(BigInt, msg[3])\n",
    "    a = public_key\n",
    "\n",
    "    v_1 = mod(powermod(a, r, p) * powermod(r, s, p), p)\n",
    "    v_2 = powermod(g, m, p)\n",
    "\n",
    "    if v_1 == mod(v_2, p)\n",
    "        return true\n",
    "    else\n",
    "        return false\n",
    "    end\n",
    "end\n",
    "\n",
    "msg = CW2_DATA.Q7_3_f_data_msg\n",
    "public_key = find_public_key(\"apple\", g, p)\n",
    "CW2_DATA.Q7_3_f_ans_T_or_F = signature_verification(msg, public_key)\n"
   ]
  },
  {
   "cell_type": "markdown",
   "id": "32c442b3",
   "metadata": {},
   "source": [
    "### 7.4\n"
   ]
  },
  {
   "cell_type": "code",
   "execution_count": 179,
   "metadata": {},
   "outputs": [
    {
     "name": "stdout",
     "output_type": "stream",
     "text": [
      "Q7.4: the incorrect share is 7\n",
      "Q7.4: the secret is 40008458807357777472\n"
     ]
    }
   ],
   "source": [
    "# Q7_4_data_p::String\n",
    "# Q7_4_data_x_vector::Array{String}\n",
    "# Q7_4_data_y_vector::Array{String}\n",
    "# Q7_4_ans_error_idx::Union{Missing, Int}\n",
    "# Q7_4_ans_secret::Union{Missing, String}\n",
    "\n",
    "function interpolation(X, Y, x, p)\n",
    "    p_x = BigInt(0)\n",
    "    for i in 1:length(X)\n",
    "        l_k = BigInt(1)\n",
    "        for j in 1:length(X)\n",
    "            if j != i\n",
    "                l_k *= mod(((x - X[j]) * invmod((X[i] - X[j]), p)), p)\n",
    "            end\n",
    "        end\n",
    "        p_x += mod(Y[i] * l_k, p) \n",
    "    end\n",
    "    return mod(p_x, p)\n",
    "end\n",
    "\n",
    "# This is a more general approach for finding the secret and the incorrect share\n",
    "# function solve(X, Y, p)\n",
    "#     for i in 1:length(X)\n",
    "#         temp_X = vcat(X[1:i-1], X[i+1:end])\n",
    "#         temp_Y = vcat(Y[1:i-1], Y[i+1:end])\n",
    "#         secret = interpolation(temp_X, temp_Y, 0, p)\n",
    "#         # println(temp_X, secret)\n",
    "#         for j in 1:length(temp_X)\n",
    "#             temp_X2 = vcat(temp_X[1:j-1], temp_X[j+1:end])\n",
    "#             temp_Y2 = vcat(temp_Y[1:j-1], temp_Y[j+1:end])\n",
    "#             # println(temp_X2, secret)\n",
    "#             secret2 = interpolation(temp_X2, temp_Y2, 0, p)\n",
    "#             if secret2 == secret\n",
    "#                 return i, secret\n",
    "#             else\n",
    "#                 continue\n",
    "#             end\n",
    "#         end\n",
    "#     end\n",
    "# end\n",
    "\n",
    "# This is a more efficient approach for finding the secret and the incorrect share specifically for this 7-share case\n",
    "function solve(X, Y, p)\n",
    "    n = length(X)\n",
    "    for i in 1:n-1\n",
    "        X_new = vcat(X[1:i-1], X[i+1:n])\n",
    "        Y_new = vcat(Y[1:i-1], Y[i+1:n])\n",
    "        X_temp_1 = X_new[1:4]\n",
    "        X_temp_2 = X_new[3:6]\n",
    "        Y_temp_1 = Y_new[1:4]\n",
    "        Y_temp_2 = Y_new[3:6]\n",
    "        M1 = interpolation(X_temp_1, Y_temp_1, 0, p)\n",
    "        M2 = interpolation(X_temp_2, Y_temp_2, 0, p)\n",
    "        if M1 == M2\n",
    "            return i, M1\n",
    "        end\n",
    "    end\n",
    "    M = interpolation(X[1:4], Y[1:4], 0, p)\n",
    "    return n, M\n",
    "end\n",
    "\n",
    "X = parse.(BigInt, CW2_DATA.Q7_4_data_x_vector)\n",
    "Y = parse.(BigInt, CW2_DATA.Q7_4_data_y_vector)\n",
    "p = parse(BigInt, CW2_DATA.Q7_4_data_p)\n",
    "\n",
    "idx, secret = solve(X, Y, p)\n",
    "CW2_DATA.Q7_4_ans_error_idx = idx\n",
    "CW2_DATA.Q7_4_ans_secret = string(secret)\n",
    "println(\"Q7.4: the incorrect share is \", idx)\n",
    "println(\"Q7.4: the secret is \", secret)\n"
   ]
  },
  {
   "cell_type": "markdown",
   "id": "8716ed07",
   "metadata": {},
   "source": [
    "### 8.1\n"
   ]
  },
  {
   "cell_type": "markdown",
   "metadata": {},
   "source": [
    "#### 8.1.a\n",
    "The left side is \n",
    "$$\n",
    "\\begin{equation*}\n",
    "    \\binom{p}{j} = \\frac{p(p-1)(p-2)\\cdots (p-j+1)}{j(j-1)(j-2)\\cdots 1}\n",
    "\\end{equation*}\n",
    "$$\n",
    "And first assume $a = p(p-1)(p-2)\\cdots (p-j+1) = p\\hat{p}$, where $\\hat{p} = (p-1)(p-2)\\cdots (p-j+1)$, and since $(ab) mod(p) = [(a) mod(p) \\times (b) mod(p)]mod(p)$, then $(p\\hat{p}) mod(p) = [(p) mod(p) \\times constant]mod(p)$, since $(p) mod(p)$ is 0, then the numerator modulus p is 0. Now considering about the denominator, assuming $j! = m$, since $p$ is a prime, and $1 \\leq j \\leq p$, it can be seen that $j, (j-1), (j-2), \\cdots, 1$ are all coprime with $p$, then $m$ should be coprime with $p$, therefore, the modular inverse of $m$ over $p$ exists, then $(\\frac{\\hat{p}}{m}) mod(p)$ can be written as $(\\hat{p}m^{-1}) mod(p)$, which is $[(\\hat{p})mod(p) \\times (m^{-1})mod(p)]mod(p) = [(\\hat{p})mod(p)\\times constant]mod(p) = [0\\times constant]mod(p)=0$, therefore\n",
    "$$\n",
    "\\begin{equation*}\n",
    "    \\binom{p}{j} \\equiv 0 (mod p)\n",
    "\\end{equation*}\n",
    "$$"
   ]
  },
  {
   "cell_type": "markdown",
   "metadata": {},
   "source": [
    "#### 8.1.b\n",
    "Now considering about \n",
    "$$\n",
    "\\begin{equation*}\n",
    "    \\binom{p-1}{j} = \\frac{(p-1)!}{j!(p-j-1)!} = \\frac{(p-1)(p-2)\\cdots (p-j)}{j(j-1)(j-2)\\cdots (1)} = \\frac{(p-1)(p-2)\\cdots (p-j)}{1\\cdot 2 \\cdots j} = \\frac{p-1}{1}\\cdot \\frac{p-2}{2}\\cdots \\frac{p-j}{j} = \\prod_{i=1}^{j}\\frac{p-i}{i}\n",
    "\\end{equation*}\n",
    "$$\n",
    "Now since $p \\equiv 0 (mod \\ \\ p)$, then we could write that \n",
    "$$\n",
    "\\begin{equation*}\n",
    "    p - i \\equiv 0 - i \\ \\ (mod \\ \\ p)\n",
    "\\end{equation*}\n",
    "$$\n",
    "Since $1 \\leq j \\leq p-1$, and $p$ is a prime, it can be seen that all integers from 1 to $j$ are coprime to $p$, therefore, we could rewrite that as\n",
    "$$\n",
    "\\begin{equation*}\n",
    "    \\frac{p-i}{i} \\ \\equiv \\ (p - i)i^{-1} \\ \\equiv \\ (0-i)i^{-1} \\ \\equiv -1 \\ \\ (mod \\ \\ p)\n",
    "\\end{equation*}\n",
    "$$\n",
    "Therefore\n",
    "$$\n",
    "\\begin{equation*}\n",
    "    \\prod_{i=1}^{j}\\frac{p-i}{i} \\ \\equiv \\ \\prod_{i=1}^{j}(-1) \\ \\equiv (-1)^j \\ \\ (mod \\ \\ p)\n",
    "\\end{equation*}\n",
    "$$\n",
    "Therefore\n",
    "$$\n",
    "\\begin{equation*}\n",
    "    \\binom{p-1}{j} \\ \\equiv \\ (-1)^j \\ \\ (mod \\ \\ p)\n",
    "\\end{equation*}\n",
    "$$"
   ]
  },
  {
   "cell_type": "markdown",
   "id": "59cf540e",
   "metadata": {},
   "source": [
    "### 8.2\n"
   ]
  },
  {
   "cell_type": "code",
   "execution_count": 180,
   "id": "61a20029",
   "metadata": {},
   "outputs": [
    {
     "name": "stdout",
     "output_type": "stream",
     "text": [
      "p(x) over F2 is irreducible: true\n",
      "factor polynomials: [[1, 0, 1, 1, 1, 1, 0, 1, 1]]\n",
      "p(x) over F3 is irreducible: true\n",
      "factor polynomials: [[1, 0, 1, 1, 1, 1, 0, 1, 1]]\n",
      "p(x) over F5 is irreducible: false\n",
      "factor polynomials: [[3, 1], [3, 1], [3, 1], [4, 3, 1], [2, 4, 4, 1]]\n"
     ]
    }
   ],
   "source": [
    "# Q8.2\n",
    "# Q8_2_data_p :: Array{Int64,1}\n",
    "# Q8_2_a_ans_is_irreducible :: Union{Missing,Bool}\n",
    "# Q8_2_a_ans_factor_polynomials :: Union{Missing, Vector{Vector{Int64}}}\n",
    "# Q8_2_b_ans_is_irreducible :: Union{Missing,Bool}\n",
    "# Q8_2_b_ans_factor_polynomials :: Union{Missing, Vector{Vector{Int64}}}\n",
    "# Q8_2_c_ans_is_irreducible :: Union{Missing,Bool}\n",
    "# Q8_2_c_ans_factor_polynomials :: Union{Missing, Vector{Vector{Int64}}}\n",
    "using Nemo\n",
    "\n",
    "function is_irreducible(p, Fx)\n",
    "\n",
    "    # create finite field\n",
    "    ff = GF(Fx)\n",
    "\n",
    "    # create polynomial given coefficients p\n",
    "    R, x = PolynomialRing(ff, \"x\")\n",
    "    p_x = R(p)\n",
    "\n",
    "    # check if irreducible\n",
    "    coeffs_list = []\n",
    "    if isirreducible(p_x) == true\n",
    "        coeffs_list = [p]\n",
    "        return 1, coeffs_list\n",
    "    else\n",
    "        # calculate factors\n",
    "        factors = Nemo.factor(p_x)\n",
    "\n",
    "        # convert to coefficients\n",
    "        for poly in factors\n",
    "            coeffs = Int[]\n",
    "            for idx in 0:(length(poly[1])-1)\n",
    "                # convert fpFieldElem to Int\n",
    "                coefficient = lift(coeff(poly[1], idx)) \n",
    "                push!(coeffs, coefficient)\n",
    "            end\n",
    "             # include powers of the factor\n",
    "            for _ in 1:poly[2]\n",
    "                push!(coeffs_list, coeffs)\n",
    "            end\n",
    "        end\n",
    "        return 0, coeffs_list\n",
    "    end\n",
    "end\n",
    "\n",
    "p = CW2_DATA.Q8_2_data_p\n",
    "\n",
    "\n",
    "CW2_DATA.Q8_2_a_ans_is_irreducible, CW2_DATA.Q8_2_a_ans_factor_polynomials = is_irreducible(p, 2)\n",
    "CW2_DATA.Q8_2_b_ans_is_irreducible, CW2_DATA.Q8_2_b_ans_factor_polynomials = is_irreducible(p, 3)\n",
    "CW2_DATA.Q8_2_c_ans_is_irreducible, CW2_DATA.Q8_2_c_ans_factor_polynomials = is_irreducible(p, 5)\n",
    "\n",
    "println(\"p(x) over F2 is irreducible: \", CW2_DATA.Q8_2_a_ans_is_irreducible)\n",
    "println(\"factor polynomials: \", CW2_DATA.Q8_2_a_ans_factor_polynomials)\n",
    "println(\"p(x) over F3 is irreducible: \", CW2_DATA.Q8_2_b_ans_is_irreducible)\n",
    "println(\"factor polynomials: \", CW2_DATA.Q8_2_b_ans_factor_polynomials)\n",
    "println(\"p(x) over F5 is irreducible: \", CW2_DATA.Q8_2_c_ans_is_irreducible)\n",
    "println(\"factor polynomials: \", CW2_DATA.Q8_2_c_ans_factor_polynomials)\n"
   ]
  },
  {
   "cell_type": "markdown",
   "id": "7d5f661b",
   "metadata": {},
   "source": [
    "### 8.3\n"
   ]
  },
  {
   "cell_type": "code",
   "execution_count": 181,
   "id": "84c336e2",
   "metadata": {},
   "outputs": [
    {
     "name": "stdout",
     "output_type": "stream",
     "text": [
      "p(x) = Vector{Int64}[]\n",
      "This is coprime\n",
      "p(x) = [[1, 0, 1, 1, 1]]\n",
      "p(x) = [[2, 0, 0, 2], [1, 1, 1, 2, 0, 1], [0, 2, 2, 2, 0, 2], [2, 2, 1, 0, 0, 0, 1], [1, 0, 2, 0, 0, 1, 1], [0, 1, 0, 0, 0, 2, 1], [2, 1, 2, 1, 0, 0, 2], [1, 2, 0, 1, 0, 1, 2], [0, 0, 1, 1, 0, 2, 2]]\n"
     ]
    }
   ],
   "source": [
    "function solve_p(m, a, b, Fx)\n",
    "    ff = GF(Fx)\n",
    "    R, x = PolynomialRing(ff, \"x\")\n",
    "    a_x = R(a)\n",
    "    b_x = R(b)\n",
    "    m_x = R(m)\n",
    "    p = []\n",
    "   \n",
    "    g1 = gcd(a_x, m_x)\n",
    " \n",
    "    if g1 == R(1)\n",
    "        a_x_inv = invmod(a_x, m_x)\n",
    "        p_x = mulmod(a_x_inv, b_x, m_x)\n",
    "        push!(p, [Int(lift(c)) for c in coefficients(p_x)])\n",
    "        println(\"This is coprime\")\n",
    "        return p\n",
    "    end\n",
    "    a_x_g = a_x/g1\n",
    "    m_x_g = m_x/g1\n",
    " \n",
    "    if mod(b_x, g1) != R(0)\n",
    "        return Int[]\n",
    "    end\n",
    "    a_x_g_inv = invmod(a_x_g, m_x_g)\n",
    "    p_x = mulmod(a_x_g_inv, b_x/g1, m_x_g)\n",
    "    deg_m = degree(m_x)\n",
    "    p_sol = Set{typeof(p_x)}()\n",
    "    push!(p_sol, p_x)\n",
    "    for poly_i_coeff in Iterators.product([collect(0:(Fx-1)) for _ in 1:(deg_m-1)]...)\n",
    "        poly_i = R(collect(poly_i_coeff))\n",
    "        p_x_new = p_x + poly_i*m_x_g\n",
    "        p_x_new = mod(p_x_new, m_x)\n",
    "        push!(p_sol, p_x_new)\n",
    "    end\n",
    "    coeffs_list = []\n",
    "    for elements in p_sol\n",
    "        push!(coeffs_list, [Int(lift(c)) for c in coefficients(elements)])\n",
    "    end\n",
    "    return sort!(coeffs_list, by = x -> (length(x), reverse(x)))\n",
    "    \n",
    "end\n",
    " \n",
    "m_a = CW2_DATA.Q8_3_a_data_m\n",
    "a_a = CW2_DATA.Q8_3_a_data_a\n",
    "b_a = CW2_DATA.Q8_3_a_data_b\n",
    "CW2_DATA.Q8_3_a_ans_p = solve_p(m_a, a_a, b_a, 3)\n",
    "println(\"p(x) = \", CW2_DATA.Q8_3_a_ans_p)\n",
    " \n",
    "m_b = CW2_DATA.Q8_3_b_data_m\n",
    "a_b = CW2_DATA.Q8_3_b_data_a\n",
    "b_b = CW2_DATA.Q8_3_b_data_b\n",
    "CW2_DATA.Q8_3_b_ans_p = solve_p(m_b, a_b, b_b, 3)\n",
    "println(\"p(x) = \", CW2_DATA.Q8_3_b_ans_p)\n",
    " \n",
    "m_c = CW2_DATA.Q8_3_c_data_m\n",
    "a_c = CW2_DATA.Q8_3_c_data_a\n",
    "b_c = CW2_DATA.Q8_3_c_data_b\n",
    "CW2_DATA.Q8_3_c_ans_p = solve_p(m_c, a_c, b_c, 3)\n",
    "println(\"p(x) = \", CW2_DATA.Q8_3_c_ans_p)\n",
    "\n"
   ]
  },
  {
   "cell_type": "markdown",
   "id": "aab85cc1",
   "metadata": {},
   "source": [
    "### 8.4\n"
   ]
  },
  {
   "cell_type": "markdown",
   "metadata": {},
   "source": [
    "### 8.4.a"
   ]
  },
  {
   "cell_type": "code",
   "execution_count": 182,
   "id": "8cece281",
   "metadata": {},
   "outputs": [
    {
     "data": {
      "text/plain": [
       "36-element Vector{Any}:\n",
       " [0, 1]\n",
       " [0, 0, 1]\n",
       " [1, 1, 1]\n",
       " [1, 0, 0, 1]\n",
       " [0, 1, 0, 1]\n",
       " [1, 1, 0, 1]\n",
       " [0, 0, 1, 1]\n",
       " [1, 0, 1, 1]\n",
       " [0, 0, 0, 0, 1]\n",
       " [1, 1, 0, 0, 1]\n",
       " ⋮\n",
       " [0, 1, 0, 0, 1, 1]\n",
       " [1, 1, 1, 0, 1, 1]\n",
       " [0, 0, 0, 1, 1, 1]\n",
       " [1, 0, 0, 1, 1, 1]\n",
       " [0, 1, 0, 1, 1, 1]\n",
       " [1, 1, 0, 1, 1, 1]\n",
       " [0, 0, 1, 1, 1, 1]\n",
       " [1, 0, 1, 1, 1, 1]\n",
       " [0, 1, 1, 1, 1, 1]"
      ]
     },
     "metadata": {},
     "output_type": "display_data"
    }
   ],
   "source": [
    "# Q8.4.a\n",
    "# Q8_4_a_data :: Vector{Int64}\n",
    "# Q8_4_a_ans :: Union{Missing, Vector{Vector{Int64}}}\n",
    "function Create_Extension_Finite_Field(a, base, deg)\n",
    "    # Create base field F2\n",
    "    F_base = GF(base)\n",
    "    # Create PolynomialRing based on this field\n",
    "    R = PolynomialRing(F_base, \"x\")[1]\n",
    "    # Create the irreducible polynomial based on coefficients vector\n",
    "    f = R(a)\n",
    "    # Create the extension finite field with q = base^deg\n",
    "    F, generator = FiniteField(f, \"a\")\n",
    "    return F, R\n",
    "end\n",
    "\n",
    "function Check_primitivity(p, order)\n",
    "    for i in 1:order-1\n",
    "        if p^i == 1\n",
    "            return false\n",
    "        end\n",
    "    end\n",
    "    return true\n",
    "end\n",
    "\n",
    "function find_primitive_element(a, base, deg)\n",
    "    F64, R = Create_Extension_Finite_Field(a, base, deg)\n",
    "    primitive_elements = []\n",
    "    ord = base^deg\n",
    "    for elements in F64\n",
    "        if Check_primitivity(elements, ord-1)\n",
    "            push!(primitive_elements, [Int(lift(c)) for c in coefficients(R(elements))])\n",
    "        end\n",
    "    end\n",
    "    return primitive_elements[2:end]\n",
    "end\n",
    "\n",
    "a = CW2_DATA.Q8_4_a_data\n",
    "prims = find_primitive_element(a, 2, 6)\n",
    "CW2_DATA.Q8_4_a_ans = prims"
   ]
  },
  {
   "cell_type": "markdown",
   "metadata": {},
   "source": [
    "### 8.4.b"
   ]
  },
  {
   "cell_type": "code",
   "execution_count": 183,
   "metadata": {},
   "outputs": [
    {
     "data": {
      "text/plain": [
       "inv_cofactor_FF (generic function with 1 method)"
      ]
     },
     "metadata": {},
     "output_type": "display_data"
    }
   ],
   "source": [
    "# Q8_4_b_data :: Matrix{Vector{Int64}}\n",
    "# Q8_4_b_ans_det :: Union{Missing,  Vector{Int64}}\n",
    "# Q8_4_b_ans_inv :: Union{Missing, Matrix{Vector{Int64}}} \n",
    "\n",
    "function det_cofactor_FF(M, R)\n",
    "  \n",
    "    determinant = R(0)\n",
    "    dim = size(M, 2)\n",
    "\n",
    "    if dim == 2\n",
    "        determinant = M[1, 1] * M[2, 2] - M[1, 2] * M[2, 1]\n",
    "        return determinant\n",
    "    end\n",
    "    \n",
    "    for idx in 1:dim\n",
    "        M_minor = zeros(R, dim-1, dim-1)\n",
    "        M_minor_new = zeros(R, dim-1, dim+2)\n",
    "        M_new = zeros(R, dim-1, dim+3)\n",
    "        M_new[1:(dim-1), 2:dim+1] = M[2:dim, 1:dim]\n",
    "        M_minor_new[1:(dim-1), 1:idx] = M_new[1:(dim-1), 1:idx]\n",
    "        M_minor_new[1:(dim-1), (idx+1):(dim+2)] = M_new[1:(dim-1), (idx+2):(dim+3)]\n",
    "        M_minor[1:(dim-1), 1:(dim-1)] = M_minor_new[1:(dim-1), 2:(dim)]\n",
    "  \n",
    "        cofactor = (-1)^(1+idx) * det_cofactor_FF(M_minor, R)\n",
    "      \n",
    "        determinant += (M[1, idx] * cofactor)\n",
    "    end\n",
    "    \n",
    "    return determinant\n",
    "end\n",
    "\n",
    "function inv_cofactor_FF(M, m, R, det_M)\n",
    "    dim = size(M, 2)\n",
    "    M_c = zeros(R, dim, dim)\n",
    "\n",
    "    for i in 1:dim\n",
    "        for j in 1:dim\n",
    "            M_minor = zeros(R, dim-1, dim-1)\n",
    "            M_minor_new = zeros(R, dim+2, dim+2)\n",
    "            M_new = zeros(R, dim+3, dim+3)\n",
    "            M_new[2:dim+1, 2:dim+1] = M[1:dim, 1:dim]\n",
    "            M_minor_new[1:i, 1:j] = M_new[1:i, 1:j]\n",
    "            M_minor_new[1:i, (j+1):(dim+2)] = M_new[1:i, (j+2):(dim+3)]\n",
    "            M_minor_new[(i+1):(dim+2), 1:j] = M_new[(i+2):(dim+3), 1:j]\n",
    "            M_minor_new[(i+1):(dim+2), (j+1):(dim+2)] = M_new[(i+2):(dim+3), (j+2):(dim+3)]\n",
    "            M_minor[1:(dim-1), 1:(dim-1)] = M_minor_new[2:dim, 2:dim]\n",
    "            M_c[i, j] = (-1)^(i+j) * det_cofactor_FF(M_minor, R)\n",
    "        end\n",
    "    end\n",
    "\n",
    "    M_adj = transpose(M_c)\n",
    "    M_inv = invmod(det_M, m) .* M_adj\n",
    "    return mod.(M_inv, m)\n",
    "end"
   ]
  },
  {
   "cell_type": "code",
   "execution_count": 184,
   "metadata": {},
   "outputs": [
    {
     "name": "stdout",
     "output_type": "stream",
     "text": [
      "Q8.4.b: determinant = [0, 1, 0, 1, 0, 1]\n",
      "Q8.4.b: inverse matrix = [[0, 1, 0, 1, 1, 1] [0, 0, 0, 1, 1] [1, 1, 0, 0, 0, 1] [0, 1, 1, 1, 1, 1] [1, 1, 1] [1, 0, 1, 0, 0, 1] [1, 1] [0, 0, 0, 1, 1, 1]; [1, 0, 1, 0, 1, 1] [0, 0, 1, 0, 0, 1] [1, 0, 1, 0, 0, 1] [0, 0, 0, 1, 1] [0, 1, 1, 0, 1, 1] [0, 0, 1, 1, 1, 1] [0, 0, 1, 0, 1, 1] [1, 0, 0, 1, 1, 1]; [0, 0, 1, 0, 1] [1, 0, 0, 0, 1] [1, 1, 0, 1, 0, 1] [0, 0, 1, 0, 1] [1, 0, 1, 0, 0, 1] [0, 1, 1] [0, 0, 1, 1, 1] [0, 1, 0, 1, 1]; [1, 0, 1, 1, 1, 1] [1, 0, 0, 1, 0, 1] [0, 1, 1, 1] [1, 1, 0, 0, 1, 1] [1, 1, 0, 1, 1] [1, 1, 1, 1, 0, 1] [0, 1, 1, 1, 1, 1] [0, 0, 1, 0, 0, 1]; [0, 1, 1] [1, 0, 1, 1, 1, 1] [1, 1, 0, 0, 1, 1] [1, 0, 1, 1] [1, 0, 1, 0, 0, 1] [0, 0, 1, 0, 0, 1] [0, 1, 1, 0, 1] [0, 1, 0, 0, 0, 1]; [0, 0, 1, 1, 1, 1] [0, 1, 0, 1, 1] [1, 1] [1, 0, 1, 1, 1] [0, 1, 1, 1] [0, 0, 1, 0, 0, 1] [1, 1, 1, 1, 0, 1] [0, 1, 0, 0, 1]; [0, 0, 1] [0, 1, 1, 0, 1] [1, 0, 0, 1, 1] [1, 1, 1, 0, 0, 1] [1, 1, 0, 1, 1, 1] [1, 0, 1, 1, 0, 1] [1, 0, 0, 1] [1, 1, 1, 1, 1, 1]; [1, 0, 0, 1, 0, 1] [1, 1, 0, 1, 0, 1] [1, 1, 0, 1] [1, 1, 1, 1, 0, 1] [0, 1, 1, 1, 1, 1] [1, 1, 0, 0, 1] [0, 0, 0, 1, 0, 1] [1, 1, 1, 0, 1, 1]]\n"
     ]
    }
   ],
   "source": [
    "function Find_matrix_inv_FiniteField(M, a, base)\n",
    "    # Create base field F2\n",
    "    F_base = GF(base)\n",
    "    # Create PolynomialRing based on this field\n",
    "    R = PolynomialRing(F_base, \"x\")[1]\n",
    "    # Create the irreducible polynomial based on coefficients vector\n",
    "    f = R(a)\n",
    "    # Create the extension finite field with q = base^deg\n",
    "    # F64, generator = FiniteField(f, \"a\")\n",
    "    m, n = size(M)\n",
    "    M_F = zeros(R, m, n)\n",
    "    for i in 1:m\n",
    "        for j in 1:n\n",
    "            M_F[i, j] = R(M[i, j])\n",
    "        end\n",
    "    end\n",
    "    determinant = det_cofactor_FF(M_F, R)\n",
    "    if determinant == R(0)\n",
    "        println(\"Determinant is zero, no inverse\")\n",
    "        return \n",
    "    end\n",
    "    M_inv_F = inv_cofactor_FF(M_F, f, R, determinant)\n",
    "    M_inv = Matrix{Vector{Int64}}(undef, m, n)\n",
    "    for i in 1:m\n",
    "        for j in 1:n\n",
    "            M_inv[i, j] = [Int(lift(c)) for c in coefficients(M_inv_F[i, j])]\n",
    "        end\n",
    "    end\n",
    "    determinant = mod(determinant, f)\n",
    "    return M_inv, [Int(lift(c)) for c in coefficients(determinant)]\n",
    "end\n",
    "\n",
    "M_inv, determinant = Find_matrix_inv_FiniteField(CW2_DATA.Q8_4_b_data, CW2_DATA.Q8_4_a_data, 2)\n",
    "CW2_DATA.Q8_4_b_ans_det = determinant\n",
    "CW2_DATA.Q8_4_b_ans_inv = M_inv\n",
    "println(\"Q8.4.b: determinant = \", determinant)\n",
    "println(\"Q8.4.b: inverse matrix = \", M_inv)    "
   ]
  },
  {
   "cell_type": "markdown",
   "id": "984c62c7",
   "metadata": {},
   "source": [
    "### 8.5\n"
   ]
  },
  {
   "cell_type": "markdown",
   "metadata": {},
   "source": [
    "### 8.5.a"
   ]
  },
  {
   "cell_type": "code",
   "execution_count": 185,
   "id": "69fbab6a",
   "metadata": {},
   "outputs": [
    {
     "data": {
      "text/plain": [
       "32-element Vector{Any}:\n",
       " [0, 1]\n",
       " [0, 2]\n",
       " [0, 1, 1]\n",
       " [0, 2, 1]\n",
       " [2, 2, 1]\n",
       " [0, 1, 2]\n",
       " [1, 1, 2]\n",
       " [0, 2, 2]\n",
       " [0, 0, 0, 1]\n",
       " [0, 2, 0, 1]\n",
       " ⋮\n",
       " [2, 0, 1, 2]\n",
       " [0, 2, 1, 2]\n",
       " [1, 2, 1, 2]\n",
       " [1, 0, 2, 2]\n",
       " [2, 0, 2, 2]\n",
       " [0, 1, 2, 2]\n",
       " [2, 1, 2, 2]\n",
       " [1, 2, 2, 2]\n",
       " [2, 2, 2, 2]"
      ]
     },
     "metadata": {},
     "output_type": "display_data"
    }
   ],
   "source": [
    "# Q8_5_a_data :: Vector{Int64}\n",
    "# Q8_5_a_ans :: Union{Missing, Vector{Vector{Int64}}}\n",
    "\n",
    "CW2_DATA.Q8_5_a_ans = find_primitive_element(CW2_DATA.Q8_5_a_data, 3, 4)"
   ]
  },
  {
   "cell_type": "markdown",
   "metadata": {},
   "source": [
    "### 8.5.b"
   ]
  },
  {
   "cell_type": "code",
   "execution_count": 186,
   "metadata": {},
   "outputs": [
    {
     "name": "stdout",
     "output_type": "stream",
     "text": [
      "Q8.5.b: determinant = [1, 1, 0, 2]\n",
      "Q8.5.b: inverse matrix = [[2, 1, 1, 1] [2, 2, 2] [1, 1, 2] [2, 0, 1, 1] [2, 2] [0, 2, 2, 2]; [1, 0, 1, 1] [2, 0, 1] [0, 1, 2] [1, 0, 0, 2] [0, 2, 2, 1] [1, 2, 2]; [0, 0, 2] [0, 2, 2, 1] [1, 1, 1] [2, 1, 2, 2] [0, 0, 2, 2] [0, 0, 1, 1]; [0, 1, 1] [0, 1, 1, 1] [1, 2, 1, 1] [0, 2, 1] [1, 2, 2, 2] [1, 1, 1, 1]; [0, 0, 1, 2] [2, 2, 1, 2] [1, 0, 1, 2] [0, 1, 2, 1] [1, 2] [0, 0, 0, 1]; [2, 1, 1, 2] [0, 2, 1, 2] [1, 2] [2, 1, 0, 1] [2, 1, 1, 1] [1, 0, 1]]\n"
     ]
    }
   ],
   "source": [
    "# Q8_5_b_data :: Matrix{Vector{Int64}}\n",
    "# Q8_5_b_ans_det :: Union{Missing,  Vector{Int64}} \n",
    "# Q8_5_b_ans_inv :: Union{Missing, Matrix{Vector{Int64}}} \n",
    "\n",
    "M_inv, determinant = Find_matrix_inv_FiniteField(CW2_DATA.Q8_5_b_data, CW2_DATA.Q8_5_a_data, 3)\n",
    "CW2_DATA.Q8_5_b_ans_det = determinant\n",
    "CW2_DATA.Q8_5_b_ans_inv = M_inv\n",
    "println(\"Q8.5.b: determinant = \", determinant)\n",
    "println(\"Q8.5.b: inverse matrix = \", M_inv)"
   ]
  },
  {
   "cell_type": "markdown",
   "id": "af6cbd19",
   "metadata": {},
   "source": [
    "### 8.6\n"
   ]
  },
  {
   "cell_type": "markdown",
   "metadata": {},
   "source": [
    "Based on the theorem that the number of primitive elements in $F_q$ is $\\phi (q-1)$, where $\\phi$ is Euler's $\\phi$ function, since in our case $q-1=127$ is a prime, then $\\phi (127) = 127-1 = 126$, then there would be 126 primitive elements for $F_{128}$ "
   ]
  },
  {
   "cell_type": "code",
   "execution_count": 187,
   "metadata": {},
   "outputs": [],
   "source": [
    "# save\n",
    "jldopen(\"Jacky Jiang1860908StudentFile.jld2\", \"w\") do file\n",
    "    write(file, \"CourseWork_2\", CW2_DATA)\n",
    "end"
   ]
  }
 ],
 "metadata": {
  "kernelspec": {
   "display_name": "Julia 1.9.3",
   "language": "julia",
   "name": "julia-1.9"
  },
  "language_info": {
   "file_extension": ".jl",
   "mimetype": "application/julia",
   "name": "julia",
   "version": "1.9.3"
  }
 },
 "nbformat": 4,
 "nbformat_minor": 5
}
